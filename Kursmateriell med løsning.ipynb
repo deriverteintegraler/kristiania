{
 "cells": [
  {
   "cell_type": "markdown",
   "id": "6af388d4-e963-4aa6-96a9-9683af0ee15f",
   "metadata": {},
   "source": [
    "# Grunnleggende om Jupyter Notebooks\n",
    "Vi kan skrive et dokument som inneholder både tekst og kkjørbar kode. Hvis du jobber gjennom mybinder.org, bruk knappen med + oppe til venstre for å legge til en ny celle. Hver celle skal være enten \"Code\" eller \"Markdown\" (tekst).\n",
    "\n",
    "Du kan endre rekkefølge på cellene ved å flytte dem opp eller ned.\n",
    "\n",
    "Trykk ctrl+enter for å kjøre innholdet i en celle.\n",
    "\n",
    "Trykk shift+L eller trykk \"View-Show Line Numbers\" i menyen øverst for å se linjenummer. Dette hjelper deg med å finne og rette feil i koden."
   ]
  },
  {
   "cell_type": "markdown",
   "id": "df338127-9aad-48f0-887d-5dbf9f63fb57",
   "metadata": {},
   "source": [
    "# Grunnleggende datatyper i Python\n",
    "Vi har mange ulike datatyper. Vi skal se på tall, tekst, lister, tuples og dictionaries.\n",
    "\n",
    "## Tall\n",
    "Tall finnes i flere formater, men de viktigste er heltall (int) og desimaltall (float). Vi har også komplekse/imaginære tall.\n",
    "\n",
    "## Tekst\n",
    "Tekst eller strings skrives mellom disse '' eller mellom disse \"\".\n",
    "\n",
    "## Lister\n",
    "Lister skrives med [] rundt, og elementene skilles med komma. Elementene trenger ikke ha like typer, og en liste kan inneholde en liste. Lister kan modifiseres på mange måter.\n",
    "\n",
    "## Tuples\n",
    "Tuples skrives med () rundt, og elementene skilles med komma. Elementene trenger ikke ha like typer, og en tuple kan inneholde en tuple. Tuples kan ikke modifiseres.\n",
    "\n",
    "## Dictionaries\n",
    "Dictionaries skrives med {} rundt, linken mellom nøkkel og verdi er kolon : og elementene skilles med komma. Elementene trenger ikke ha like typer, og en dictionary kan inneholde en dictionary. Dictionaries kan modifiseres.\n",
    "\n",
    "## Sjekke datatyper\n",
    "Vi kan sjekke typen til et objekt ved å skrive type(objekt). For å printe det, skriv print(type(objekt)).\n",
    "\n",
    "## Skrive kommentarer\n",
    "Kommentarer skrives med \\# foran teksten."
   ]
  },
  {
   "cell_type": "code",
   "execution_count": 1,
   "id": "75b0f559-e3bf-4ac9-be87-42e22958e0ec",
   "metadata": {},
   "outputs": [
    {
     "name": "stdout",
     "output_type": "stream",
     "text": [
      "6\n",
      "<class 'int'>\n",
      "3.14\n",
      "<class 'float'>\n",
      "dette er en tekst\n",
      "<class 'str'>\n",
      "[3, 6.7, 'hei', 'på', 'deg', 'dette er en tekst', 6, [-3, 'tekst', 12], 9]\n",
      "<class 'list'>\n",
      "(5, 6, 'her er det mer tekst')\n",
      "<class 'tuple'>\n",
      "{'Per': 22334455, 'Kari': 99887766}\n",
      "<class 'dict'>\n"
     ]
    }
   ],
   "source": [
    "# Dette er en kommentar før koden. Python ignorerer denne linjen når cellen kjøres.\n",
    "\n",
    "heltallet = 6\n",
    "desimaltallet = 3.14  # Dette er en kommentar på en kodelinje. Den blir også ignorert av Python.\n",
    "teksten = \"dette er en tekst\"\n",
    "listen = [3, 6.7, 'hei', 'på', \"deg\", teksten, heltallet, [-3, 'tekst', 12], 9]  # Legg merke til at det ikke gjør noen forskjell om det står '' eller \"\". Begge er tekst.\n",
    "tuplen = (5, heltallet, 'her er det mer tekst')\n",
    "ordboken = {'Per': 22334455, 'Kari': 99887766}\n",
    "\n",
    "print(heltallet)\n",
    "print(type(heltallet))\n",
    "print(desimaltallet)\n",
    "print(type(desimaltallet))\n",
    "print(teksten)\n",
    "print(type(teksten))\n",
    "print(listen)\n",
    "print(type(listen))\n",
    "print(tuplen)\n",
    "print(type(tuplen))\n",
    "print(ordboken)\n",
    "print(type(ordboken))"
   ]
  },
  {
   "cell_type": "markdown",
   "id": "e75e22ed-6f30-464a-b585-dc60bd64619e",
   "metadata": {},
   "source": [
    "### Oppgave datatyper\n",
    "Se eksemplet rett over.\n",
    "\n",
    "a) Lag en variabel av hver type (int, float, string, list, tuple, dictionary).\n",
    "\n",
    "b) Print alle variablene.\n",
    "\n",
    "c) Print typene til alle variablene."
   ]
  },
  {
   "cell_type": "code",
   "execution_count": null,
   "id": "74f85bc1-e36e-4999-afec-09a1249c66a8",
   "metadata": {},
   "outputs": [],
   "source": [
    "# skriv som i kodecellen over, bare finn på andre variabelnavn og verdier til variablene."
   ]
  },
  {
   "cell_type": "markdown",
   "id": "868e23eb-a917-4669-9fa3-9e0c718a51a8",
   "metadata": {},
   "source": [
    "# Variabler\n",
    "Variabler i Python kan endre type helt uten videre. Noe som først er en int kan senere bli en array, string, float eller hva som helst.\n",
    "\n",
    "La oss se på eksempelet under. Vi bruker \"print()\"-funksjonen for å printe verdiene til variablene."
   ]
  },
  {
   "cell_type": "code",
   "execution_count": 1,
   "id": "00fa1f64-864e-4d11-afc6-bebccceec038",
   "metadata": {},
   "outputs": [
    {
     "name": "stdout",
     "output_type": "stream",
     "text": [
      "3\n",
      "dette er en tekst\n"
     ]
    }
   ],
   "source": [
    "a = 3\n",
    "print(a)\n",
    "\n",
    "a = \"dette er en tekst\"\n",
    "print(a)"
   ]
  },
  {
   "cell_type": "code",
   "execution_count": 2,
   "id": "1a19ef57-74bb-49a4-8c12-6d61a3c74bd5",
   "metadata": {},
   "outputs": [
    {
     "name": "stdout",
     "output_type": "stream",
     "text": [
      "36\n"
     ]
    }
   ],
   "source": [
    "a = 4       # Variabelen \"a\" får verdien 4\n",
    "b = 9       # Variabelen \"b\" får verdien 9\n",
    "c = a * b   # Variabelen \"c\" får en verdi som er lik produktet av verdien til \"a\" og verdien til \"b\".\n",
    "a = 5       # Variabelen \"a\" får verdien 5\n",
    "print(c)    # Verdien av c ble bestemt før a endret verdi."
   ]
  },
  {
   "cell_type": "markdown",
   "id": "958bf9d5-cd53-4c11-8f64-192a69ba637a",
   "metadata": {},
   "source": [
    "Alle variabler må defineres før de kan brukes. Det innebærer at de må stå høyere opp i koden enn linjen der man prøver å bruke dem."
   ]
  },
  {
   "cell_type": "code",
   "execution_count": 3,
   "id": "592b5e1a-34cf-4130-b90e-7c884d305776",
   "metadata": {},
   "outputs": [
    {
     "ename": "NameError",
     "evalue": "name 'tidligvariabel' is not defined",
     "output_type": "error",
     "traceback": [
      "\u001b[0;31m---------------------------------------------------------------------------\u001b[0m",
      "\u001b[0;31mNameError\u001b[0m                                 Traceback (most recent call last)",
      "Cell \u001b[0;32mIn[3], line 1\u001b[0m\n\u001b[0;32m----> 1\u001b[0m \u001b[38;5;28mprint\u001b[39m(\u001b[43mtidligvariabel\u001b[49m)\n\u001b[1;32m      3\u001b[0m tidligvariabel \u001b[38;5;241m=\u001b[39m \u001b[38;5;241m5\u001b[39m\n",
      "\u001b[0;31mNameError\u001b[0m: name 'tidligvariabel' is not defined"
     ]
    }
   ],
   "source": [
    "print(tidligvariabel)\n",
    "\n",
    "tidligvariabel = 5"
   ]
  },
  {
   "cell_type": "markdown",
   "id": "de2e5941-bd14-4c1c-82d3-77814a9ab80c",
   "metadata": {},
   "source": [
    "### Oppgave variabler\n",
    "Tenk over hva som vil printes dersom følgende kommandoer kjøres. Når du har tenkt over det og skrevet ned resultatet, kjør kommandoene i en ny celle og sammenlikn med det du trodde.\n",
    "\n",
    "a = 3\n",
    "\n",
    "b = -2\n",
    "\n",
    "c = 2\n",
    "\n",
    "b = a + 2*c\n",
    "\n",
    "a = b - a + c\n",
    "\n",
    "print(a)\n",
    "\n",
    "print(b)\n",
    "\n",
    "print(c)"
   ]
  },
  {
   "cell_type": "code",
   "execution_count": 4,
   "id": "fabdceda-199a-497d-a909-0a53e0884b67",
   "metadata": {},
   "outputs": [
    {
     "name": "stdout",
     "output_type": "stream",
     "text": [
      "6\n",
      "7\n",
      "2\n"
     ]
    }
   ],
   "source": [
    "a = 3\n",
    "b = -2\n",
    "c = 2\n",
    "b = a + 2*c\n",
    "a = b - a + c\n",
    "print(a)\n",
    "print(b)\n",
    "print(c)"
   ]
  },
  {
   "cell_type": "markdown",
   "id": "72aec3e4-11e9-4f9e-9122-2ea737bbc4f4",
   "metadata": {},
   "source": [
    "# Strenger (engelsk: strings) og printing\n",
    "En streng er en rekke med tegn som oppfattes som tekst (engelsk: string of characters). Det er mange metoder som kan benyttes for å få fin output på skjermen og når vi lagrer resultatene våre i filer. Vi skal se på de enkleste. Mange av metodene for strenger er tilsvarende som for lister."
   ]
  },
  {
   "cell_type": "code",
   "execution_count": 5,
   "id": "11f5537b-3ca0-4b32-aedb-f0b99ff704ee",
   "metadata": {},
   "outputs": [
    {
     "name": "stdout",
     "output_type": "stream",
     "text": [
      "Tekst her også.\n",
      "Nå er det ny tekst her, men jeg bruker samme variabelnavn og print-kommando.\n",
      "3\n",
      "6\n",
      "Nå er det ny tekst her, men jeg bruker samme variabelnavn og print-kommando.Nå er det ny tekst her, men jeg bruker samme variabelnavn og print-kommando.\n"
     ]
    }
   ],
   "source": [
    "x = 3 # Denne linjen printes ikke, x får bare verdien 3. Tilsvarende på linje 2 og 4.\n",
    "variabeltekst = \"Tekst her også.\"\n",
    "print(variabeltekst)\n",
    "variabeltekst = \"Nå er det ny tekst her, men jeg bruker samme variabelnavn og print-kommando.\"\n",
    "print(variabeltekst)\n",
    "print(x)\n",
    "print(2*x)\n",
    "print(2*variabeltekst)"
   ]
  },
  {
   "cell_type": "markdown",
   "id": "3222ff83-e627-4bdb-a12d-0d8c2aac5d93",
   "metadata": {},
   "source": [
    "Vi kan kombinere tekst og tall, men må da gjøre det på riktig måte."
   ]
  },
  {
   "cell_type": "code",
   "execution_count": 6,
   "id": "6538059a-5ae8-4f8a-a2f6-3a5691de1b85",
   "metadata": {},
   "outputs": [
    {
     "name": "stdout",
     "output_type": "stream",
     "text": [
      "Antall elementer er  5\n",
      "Antall elementer er 5\n",
      "Antall elementer er 5.\n"
     ]
    }
   ],
   "source": [
    "tekst = 'Antall elementer er '\n",
    "tall = 5\n",
    "print(tekst,tall)\n",
    "# Kan slippe det unødvendige mellomrommet ved å bruke + men da må vi gjøre om tallet til string først.\n",
    "print(tekst+str(tall))\n",
    "print(tekst+str(tall)+\".\")"
   ]
  },
  {
   "cell_type": "markdown",
   "id": "2efddb6a-0714-4835-846d-063ef71d6f3f",
   "metadata": {},
   "source": [
    "### Lengden av en string\n",
    "Vi kan finne lengden av en string ved å skrive len(stringens navn). Dette tallet kan brukes på flere måter."
   ]
  },
  {
   "cell_type": "code",
   "execution_count": 8,
   "id": "2739ab89-19a0-4768-b0b8-c8a53e4934d0",
   "metadata": {},
   "outputs": [
    {
     "name": "stdout",
     "output_type": "stream",
     "text": [
      "17\n"
     ]
    }
   ],
   "source": [
    "setning = \"Her står det noe.\"\n",
    "# Tell antall tegn i setning, husk å telle mellomrom.\n",
    "lengde = len(setning)\n",
    "print(lengde)"
   ]
  },
  {
   "cell_type": "markdown",
   "id": "f716abad-7377-4428-b71c-c861a0c3c191",
   "metadata": {},
   "source": [
    "### Elementer og utvalg ved bruk av index\n",
    "Vi kan plukke ut elementer fra en streng på flere måter. Vi ser på den enkleste:\n",
    "\n",
    "Elementet med index i: streng[i]\n",
    "\n",
    "Indexen vi bruker kan være negativ, og betyr i så fall at vi teller bakfra.\n",
    "\n",
    "Vi må være bevisst at strenger i Python har index som begynner på 0. Dersom vi ber om en index som ikke finnes får vi en feilmelding. Under har vi en streng med 10 elementer, det vil si at indexene går fra 0 til 9. Legg merke til at mellomrommet mellom [ og { er et av tegnene."
   ]
  },
  {
   "cell_type": "code",
   "execution_count": 9,
   "id": "9f5e5e7a-2808-4151-9f49-439db347e643",
   "metadata": {},
   "outputs": [
    {
     "name": "stdout",
     "output_type": "stream",
     "text": [
      "a\n",
      "c\n",
      "%\n"
     ]
    }
   ],
   "source": [
    "demotekst = \"abc123[ {%\"\n",
    "alpha = demotekst[0]\n",
    "print(alpha)\n",
    "beta = demotekst[2]\n",
    "print(beta)\n",
    "gamma = demotekst[-1]\n",
    "print(gamma)\n",
    "#delta = demotekst[10]"
   ]
  },
  {
   "cell_type": "markdown",
   "id": "dd0aca68-6b80-472e-b7e4-21d91e9bd2b5",
   "metadata": {},
   "source": [
    "Prøv å fjerne #-tegnet fra den siste linjen og kjør den cellen på nytt. Feilmeldingen \"IndexError: string index out of range\" forteller oss at vi har prøvd å bruke en index som ikke eksisterer for det elementet vi ser på. Pilen peker på linje 6 for å fortelle oss hvor feilen oppsto. Sett #-tegne tilbake igjen før du går videre. Selv om det er 10 elementer i strengen kan vi ikke be om streng[10], siden det vil være det ellevte elementet."
   ]
  },
  {
   "cell_type": "markdown",
   "id": "34177351-c182-421c-bbfd-0d103aeaf4a4",
   "metadata": {},
   "source": [
    "#### Oppgave string index\n",
    "Bruk demotekst = \"abc123[ {%\" som er definert i cellen under.\n",
    "\n",
    "a) Fyll ut linje 2 og 3 slik at du på to forskjellige måter trekker ut 3-tallet fra demoteksten.\n",
    "\n",
    "b) Fyll ut de to printkommandoene slik at 3-tallet blir printet."
   ]
  },
  {
   "cell_type": "code",
   "execution_count": 10,
   "id": "e330214c-4d12-4a3a-939d-623f3d32e21a",
   "metadata": {},
   "outputs": [
    {
     "name": "stdout",
     "output_type": "stream",
     "text": [
      "3\n",
      "3\n"
     ]
    }
   ],
   "source": [
    "demotekst = \"abc123[ {%\"\n",
    "tegn1 = demotekst[5]\n",
    "tegn2 = demotekst[-5]\n",
    "\n",
    "print(tegn1)\n",
    "print(tegn2)"
   ]
  },
  {
   "cell_type": "markdown",
   "id": "0dc22278-b8dc-4935-846c-b52e21fc1b5e",
   "metadata": {},
   "source": [
    "# Logiske operatorer\n",
    "Logiske operatorer brukes til å utføre sammenliknger. Vi må ofte sammenlikne ulike størrelser med hverandre, og sammenlikninger blir særlig viktig når vi ser på if-else-strukturer, som er helt sentralt i programmering. Vi gjør sammenlikninger i hverdagen: Vi sammenlikner priser på to liknende produkter. Vi sammenlikner prisen på et produkt med beløpet vi er villig til å bruke. Vi sammenlikner tittelene på bøker hvis de skal sorteres alfabetisk. Vi sammenlikner hvor lang tid vi tror noe vil ta med tiden vi har tilgjengelig.\n",
    "\n",
    "Vi har som regel 6 typer sammenlikninger. Vi kan sjekke om to ting er like, om de er ulike, om den første er mindre enn den andre, mindre enn eller lik den andre, større enn den andre eller større enn eller lik den andre. I Python bruker vi operatorene i tabellen under. Legg særlig merke til at det er to likhetstegn i den første sammenlikninger. Vi bruker ETT likhetstegn når en variabel skal få en verdi, og vi bruker TO likhetstegn når vi skal undersøke om to ting er like.\n",
    "\n",
    "| Symbol | Type sammenlikning   |\n",
    "|------|------|\n",
    "|  ==  | Lik|\n",
    "|  !=  | Ulik|\n",
    "|   <  | Mindre enn|\n",
    "|  <=  | Mindre enn eller lik|\n",
    "|   >  | Større enn|\n",
    "|  >=  | Større enn eller lik|\n",
    "\n",
    "Når vi gjør en (lovlig) sammenlikning får vi ett av to resultater. Enten \"True\" eller \"False\". Hvis vi gjør en ulovlig sammenlikning får vi en feilmelding. Prøv selv å sammenlikne et tall med en tekst, en streng. La oss se på noen grunnleggende eksempler:"
   ]
  },
  {
   "cell_type": "code",
   "execution_count": 11,
   "id": "e40aa521-0636-4e85-b311-05b983b1f026",
   "metadata": {},
   "outputs": [
    {
     "name": "stdout",
     "output_type": "stream",
     "text": [
      "False\n",
      "True\n",
      "False\n",
      "True\n",
      "True\n",
      "True\n"
     ]
    }
   ],
   "source": [
    "print(3 == 5)\n",
    "print(3 != 5)\n",
    "print(2 < 2)\n",
    "print(2 <= 2)\n",
    "print(8 > -15)\n",
    "print(8 >= -15)"
   ]
  },
  {
   "cell_type": "markdown",
   "id": "a7a4b778-cb8f-4c57-8c44-eeba55f4c1a0",
   "metadata": {},
   "source": [
    "#### Oppgave enkle sammenlikninger\n",
    "Tenk over hva som vil printes dersom følgende kommandoer kjøres. Når du har tenkt over det og skrevet ned resultatet, kjør kommandoene i en ny celle.\n",
    "* print(5+8 != 13)\n",
    "* print(2*4 > 2+6)\n",
    "* print(-3 > -5)"
   ]
  },
  {
   "cell_type": "code",
   "execution_count": 12,
   "id": "83897ef9-8fd3-4f60-9875-4734382704b9",
   "metadata": {},
   "outputs": [
    {
     "name": "stdout",
     "output_type": "stream",
     "text": [
      "False\n",
      "False\n",
      "True\n"
     ]
    }
   ],
   "source": [
    "print(5+8 != 13)\n",
    "print(2*4 > 2+6)\n",
    "print(-3 > -5)"
   ]
  },
  {
   "cell_type": "markdown",
   "id": "a5a3e647-863a-4d36-ac87-516dff96a5a6",
   "metadata": {},
   "source": [
    "#### Oppgave sammenlikninger med variabler\n",
    "Tenk over hva som vil printes dersom følgende kommandoer kjøres. Når du har tenkt over det og skrevet ned resultatet, kjør kommandoene i en ny celle.\n",
    "* a = 1\n",
    "* b = 2\n",
    "* c = 3\n",
    "* print(b-a != c+2)\n",
    "* a = -1\n",
    "* b = 2\n",
    "* c = -2\n",
    "* print(b*(-a) >= b-a )"
   ]
  },
  {
   "cell_type": "code",
   "execution_count": 13,
   "id": "07b0ad99-3acc-4b2f-996d-c52a5e141260",
   "metadata": {},
   "outputs": [
    {
     "name": "stdout",
     "output_type": "stream",
     "text": [
      "True\n",
      "False\n"
     ]
    }
   ],
   "source": [
    "a = 1\n",
    "b = 2\n",
    "c = 3\n",
    "print(b-a != c+2)\n",
    "a = -1\n",
    "b = 2\n",
    "c = -2\n",
    "print(b*(-a) >= b-a )"
   ]
  },
  {
   "cell_type": "markdown",
   "id": "a979f88f-c810-4a6f-bde0-e7cc82a629e8",
   "metadata": {},
   "source": [
    "## Flere logiske operatorer: and, or\n",
    "Det finnes to andre operatorer vi trenger for å lage logiske uttrykk. Av og til er det ikke bare én ting vi ønsker å sjekke. Vi kan sjekke om to ting begge er sanne med \"and\"-operatoren, eller om minst én av to ting er sanne med \"or\"-operatoren.\n",
    "\n",
    "### Oppsummering av and/or\n",
    "\n",
    "Her er en tabell som viser sannhetsverdiene for alle fire muligheter for A og B.\n",
    "\n",
    "| A     | B     | A and B | A or B |\n",
    "|-------|-------|---------|--------|\n",
    "| True  | True  |  True   |  True  |\n",
    "| True  | False |  False  |  True  |\n",
    "| False | True  |  False  |  True  |\n",
    "| False | False |  False  |  False |\n",
    "\n",
    "Legg merke til at \"A and B\" er sant bare hvis begge er sanne, og \"A or B\" er usant bare hvis begge er usanne.\n",
    "\n",
    "### And-operatoren\n",
    "Hvis vi trenger å sjekke to ting som begge må være sanne bruker vi \"and\". Operatoren \"and\" krever at begge utsagn er sanne, ellers returnerer den \"False\".\n",
    "\n",
    "Jeg vil kjøpe en ny brødrister. For å kjøpe den må jeg være i butikken, og jeg må ha minst 499 kroner på konto. Det kan illustreres med eksemplet under. Prøv gjerne å endre på linje 1 og 2 og se om resultatet ennå blir True."
   ]
  },
  {
   "cell_type": "code",
   "execution_count": 14,
   "id": "35b71b01-18f3-450c-a42c-4081919ae440",
   "metadata": {},
   "outputs": [
    {
     "name": "stdout",
     "output_type": "stream",
     "text": [
      "Kan jeg kjøpe brødrister akkurat nå?\n",
      "True\n"
     ]
    }
   ],
   "source": [
    "minLokasjon = \"butikk\"\n",
    "pengerPåKonto = 2954\n",
    "\n",
    "print(\"Kan jeg kjøpe brødrister akkurat nå?\")\n",
    "print(minLokasjon == \"butikk\" and pengerPåKonto >= 499)"
   ]
  },
  {
   "cell_type": "markdown",
   "id": "a8df9c41-5c92-46f4-8a9e-f46a40232313",
   "metadata": {},
   "source": [
    "### Or-operatoren\n",
    "Dersom det holder om en av to ting er sanne bruker vi \"or\". Denne operatoren sjekker om minst en av de påstandene to er sanne. Den returnerer \"False\" hvis ingen av de to er sanne. Or-operatoren kan leses som \"og/eller\".\n",
    "\n",
    "Jeg trener hver mandag og onsdag. Jeg kan lage en sjekk som denne:"
   ]
  },
  {
   "cell_type": "code",
   "execution_count": 15,
   "id": "8b10fbfe-ce11-42b3-abbc-f268323781da",
   "metadata": {},
   "outputs": [
    {
     "name": "stdout",
     "output_type": "stream",
     "text": [
      "Skal jeg trene i dag?\n",
      "False\n",
      "Skal jeg trene i dag?\n",
      "True\n"
     ]
    }
   ],
   "source": [
    "dagenIDag = \"fredag\"\n",
    "print(\"Skal jeg trene i dag?\")\n",
    "print(dagenIDag == \"mandag\" or dagenIDag == \"onsdag\")\n",
    "\n",
    "dagenIDag = \"onsdag\"\n",
    "print(\"Skal jeg trene i dag?\")\n",
    "print(dagenIDag == \"mandag\" or dagenIDag == \"onsdag\")"
   ]
  },
  {
   "cell_type": "markdown",
   "id": "1f095aed-d00d-4f9a-a8ed-912be4c73693",
   "metadata": {},
   "source": [
    "#### Oppgave logiske operatorer\n",
    "Tenk over hva som vil printes dersom følgende kommandoer kjøres. Når du har tenkt over det og skrevet ned resultatet, kjør kommandoene i en ny celle.\n",
    "\n",
    "* favorittfrukt1 = \"eple\"\n",
    "* favorittfrukt2 = \"kiwi\"\n",
    "* frukt = \"kiwi\"\n",
    "* print(frukt == favorittfrukt1)\n",
    "* print(frukt == favorittfrukt1 and frukt == favorittfrukt2)\n",
    "* print(frukt == favorittfrukt1 or frukt == favorittfrukt2)"
   ]
  },
  {
   "cell_type": "code",
   "execution_count": 16,
   "id": "fa7d30ee-065b-4527-9ee9-e6ff4d1c00db",
   "metadata": {},
   "outputs": [
    {
     "name": "stdout",
     "output_type": "stream",
     "text": [
      "False\n",
      "False\n",
      "True\n"
     ]
    }
   ],
   "source": [
    "favorittfrukt1 = \"eple\"\n",
    "favorittfrukt2 = \"kiwi\"\n",
    "frukt = \"kiwi\"\n",
    "print(frukt == favorittfrukt1)\n",
    "print(frukt == favorittfrukt1 and frukt == favorittfrukt2)\n",
    "print(frukt == favorittfrukt1 or frukt == favorittfrukt2)"
   ]
  },
  {
   "cell_type": "markdown",
   "id": "3d026cad-096b-4cab-bcba-d0f55e79e43b",
   "metadata": {},
   "source": [
    "# Betingede valg (if-else-strukturer)\n",
    "If-else-strukturer brukes dersom ulike handlinger skal utføres avhengig av et systems tilstand (en eller flere variablers verdier). Vi skal nå bruke sammenlikninger og logiske utsagn for å sjekke om noe er sant eller usant, og avhengig av det utføre noe eller noe annet. Dette kjenner vi fra hverdagen som situasjoner der vi gjør noe dersom noe er tilfelle, og ellers noe annet. F.eks. \"Hvis det er rotete hjemme skal jeg rydde\", \"Hvis det er en ukedag og ikke ferie går jeg på skolen, ellers har jeg fri\", \"Hvis det er igjen sjokoladeis spiser jeg den, ellers, hvis det er igjen jordbæris spiser jeg den, ellers går jeg i butikken og kjøper mer is\". Det generelle mønsteret er \"hvis [noe], så [handling]\" og varianter av dette.\n",
    "\n",
    "Det finnes tre typer if-else-strukturer. Alle typene starter med \"if\", forskjellen er hvordan de fortsetter. Vi ser på disse en etter en i teksten under."
   ]
  },
  {
   "cell_type": "markdown",
   "id": "8a33624e-d6ad-48d6-af35-5ea3cd4fb393",
   "metadata": {},
   "source": [
    "## If\n",
    "Dette er strukturer med formen \"hvis [noe], så [handling]\". Legg merke til at linjen med \"if\" MÅ avsluttes med kolon, og de handlingene som skal utføres MÅ stå med et innrykk på følgende linje. Innrykket får man automatisk hvis man skriver riktig, ellers kan man trykke på \"tab\" på tastaturet. Man kan også skrive 4 mellomrom. Denne innrykksstrukturen er helt avgjørende når vi skriver kode i Python."
   ]
  },
  {
   "cell_type": "code",
   "execution_count": 17,
   "id": "87cfe243-7b12-43c7-9bbc-35982cc3fce8",
   "metadata": {},
   "outputs": [
    {
     "name": "stdout",
     "output_type": "stream",
     "text": [
      "Det er rotete!\n",
      "Du må rydde!\n"
     ]
    }
   ],
   "source": [
    "hjemme = 'rotete'\n",
    "\n",
    "if hjemme == 'rotete':\n",
    "    print('Det er rotete!')\n",
    "print('Du må rydde!')"
   ]
  },
  {
   "cell_type": "markdown",
   "id": "bac85ccd-b269-4af7-b217-f0ac605b71de",
   "metadata": {},
   "source": [
    "Legg merke til at det er 1 likhetstegn når vi tildeler verdien 'rotete', og 2 likhetstegn når vi sammenlikner to verdier.\n",
    "\n",
    "Legg merke til at \"print('Du må rydde!')\" står uten innrykk. Det innebærer at den linjen vil kjøres hver gang, uavhengig av om hjemme == 'rotete' eller ikke. Det blir tydelig i eksempelet under."
   ]
  },
  {
   "cell_type": "code",
   "execution_count": 18,
   "id": "644c20b6-da1b-46c6-87a3-567494ef60a0",
   "metadata": {},
   "outputs": [
    {
     "name": "stdout",
     "output_type": "stream",
     "text": [
      "Du må rydde!\n"
     ]
    }
   ],
   "source": [
    "hjemme = 'ryddig'\n",
    "\n",
    "if hjemme == 'rotete':\n",
    "    print('Det er rotete!')\n",
    "print('Du må rydde!')"
   ]
  },
  {
   "cell_type": "markdown",
   "id": "32ac8ea2-027b-4fb3-9b92-9c1ed718b28c",
   "metadata": {},
   "source": [
    "For at det skal bli rett må ALT som skal utføres BARE HVIS utsagnet er sant stå med et innrykk. Som du kan se i eksempelet under blir ingen av de to kommandoene printet når det er 'ryddig'. Under hele if-strukturen er det et regnestykke bare for at du skal se at det faktisk virket og at vi kom ned dit."
   ]
  },
  {
   "cell_type": "code",
   "execution_count": 20,
   "id": "1d925a10-3d57-40a2-8e0b-d99b6e24b7e8",
   "metadata": {},
   "outputs": [
    {
     "name": "stdout",
     "output_type": "stream",
     "text": [
      "5\n"
     ]
    }
   ],
   "source": [
    "hjemme = 'ryddig'\n",
    "\n",
    "if hjemme == 'rotete':\n",
    "    print('Det er rotete!')\n",
    "    print('Du må rydde!')\n",
    "    \n",
    "print(3+2) # Denne linjen er med bare for å vise at cellen virker, og at vi ikke får prints fra if-en."
   ]
  },
  {
   "cell_type": "markdown",
   "id": "6bff1687-9365-4731-8f72-f66c15364dd4",
   "metadata": {},
   "source": [
    "#### Oppgave 1 if\n",
    "Tenk over hva som vil printes dersom følgende kommandoer kjøres. Når du har tenkt over det og skrevet ned resultatet, kjør kommandoene i en ny celle.\n",
    "```\n",
    "x = 4\n",
    "y = 6\n",
    "z = 10\n",
    "if x+y >= z:\n",
    "    print(x)\n",
    "```"
   ]
  },
  {
   "cell_type": "code",
   "execution_count": 21,
   "id": "70c9b136-fb30-4dcc-afe3-a2e82e560a59",
   "metadata": {},
   "outputs": [
    {
     "name": "stdout",
     "output_type": "stream",
     "text": [
      "4\n"
     ]
    }
   ],
   "source": [
    "x = 4\n",
    "y = 6\n",
    "z = 10\n",
    "if x+y >= z:\n",
    "    print(x)"
   ]
  },
  {
   "cell_type": "markdown",
   "id": "1f701b0f-8c91-416c-80cb-6248d36002f3",
   "metadata": {},
   "source": [
    "#### Oppgave 2 if\n",
    "Skriv en if-struktur som sjekker om verdien til 2*x er større enn verdien til y. Legg inn to rader der du gir x og y to tallverdier, husk at disse linjene må være før if-strukturen. Dersom x i andre er større enn y i andre, print en melding om dette til brukeren."
   ]
  },
  {
   "cell_type": "code",
   "execution_count": 22,
   "id": "3275631e-0d7b-4ec1-bca3-a8fbca594781",
   "metadata": {},
   "outputs": [
    {
     "name": "stdout",
     "output_type": "stream",
     "text": [
      "2*x er større enn y.\n"
     ]
    }
   ],
   "source": [
    "x = 3\n",
    "y = 2\n",
    "if 2*x > y:\n",
    "    print(\"2*x er større enn y.\")"
   ]
  },
  {
   "cell_type": "markdown",
   "id": "7afd8675-cd88-4743-ac5a-55a23c3ecc48",
   "metadata": {},
   "source": [
    "## If-elif\n",
    "Dette er strukturer med formen \"hvis [noe], så [handling1], og hvis ikke [noe] men [noe annet], så [handling2]\". Legg merke til at linjen med \"if\" MÅ avsluttes med kolon, og linjen med \"elif\" MÅ avsluttes med kolon, og de handlingene som skal utføres MÅ stå med et innrykk på følgende linje. \"elif\" er en forkortelse for \"else if\".\n",
    "\n",
    "Det som er viktig å innse her er at MAKSIMALT ETT av handlingssporene kan forekomme. Dersom [noe] er sant blir [handling1] utført, og da er \"if-else\"-strukturen ferdig, [noe annet] blir ikke engang undersøkt og [handling2] kan ikke skje da. Dette blir tydeligere når du leser eksemplene under. Legg merke til hva som printes og hva som ikke printes."
   ]
  },
  {
   "cell_type": "code",
   "execution_count": 25,
   "id": "490433e6-5cef-48ca-9c98-50ea03cd96c4",
   "metadata": {},
   "outputs": [
    {
     "name": "stdout",
     "output_type": "stream",
     "text": [
      "a og c er er ikke like\n",
      "Nå er vi ferdige.\n"
     ]
    }
   ],
   "source": [
    "a = 'eple'\n",
    "b = 'pære'\n",
    "c = 'plomme'\n",
    "\n",
    "if a == b:\n",
    "    print('a og b er like.')\n",
    "elif a != c:\n",
    "    print('a og c er er ikke like')\n",
    "\n",
    "print('Nå er vi ferdige.')"
   ]
  },
  {
   "cell_type": "markdown",
   "id": "0bb374a2-c405-4d32-8058-315b09ba352f",
   "metadata": {},
   "source": [
    "I eksempelet over ser vi at a og b ikke var like, så derfor gikk vi videre til å sjekke om a og c er ulike. Det er de, derfor printes meldingen der."
   ]
  },
  {
   "cell_type": "code",
   "execution_count": 26,
   "id": "0e329e26-9cb7-4859-b07b-3d3fec87de5b",
   "metadata": {},
   "outputs": [
    {
     "name": "stdout",
     "output_type": "stream",
     "text": [
      "Nå er vi ferdige.\n"
     ]
    }
   ],
   "source": [
    "a = 'eple'\n",
    "b = 'pære'\n",
    "c = 'eple'\n",
    "\n",
    "if a == b:\n",
    "    print('a og b er like.')\n",
    "elif a != c:\n",
    "    print('a og c er er ikke like')\n",
    "\n",
    "print('Nå er vi ferdige.')"
   ]
  },
  {
   "cell_type": "markdown",
   "id": "e04aadf5-9b15-4f69-92b5-36ea2d646271",
   "metadata": {},
   "source": [
    "I eksempelet over ser vi at a og b ikke var like, så derfor gikk vi videre til å sjekke om a og c er ulike. Det er de ikke, derfor printes ikke meldingen der. Her ser vi at ingen av kontrollene i strukturen slo til, og derfor ble ingen av meldingene fra strukturen printet."
   ]
  },
  {
   "cell_type": "code",
   "execution_count": 27,
   "id": "1bba670f-6995-4449-a0c7-12e5d6f0a84d",
   "metadata": {},
   "outputs": [
    {
     "name": "stdout",
     "output_type": "stream",
     "text": [
      "a og b er like.\n",
      "Nå er vi ferdige.\n"
     ]
    }
   ],
   "source": [
    "a = 'eple'\n",
    "b = 'eple'\n",
    "c = 'plomme'\n",
    "\n",
    "if a == b:\n",
    "    print('a og b er like.')\n",
    "elif a != c:\n",
    "    print('a og c er er ikke like')\n",
    "\n",
    "print('Nå er vi ferdige.')"
   ]
  },
  {
   "cell_type": "markdown",
   "id": "72cd0a99-a616-40b4-9ec8-04c4d51e0139",
   "metadata": {},
   "source": [
    "I eksempelet over ser vi at a og b var like, så derfor ble meldingen fra det sporet printet. Det kan være fristende å tenke at vi nå skal sjekke om a og c er ulike (noe de er), og så printe den meldingen også. Det skjer ikke, fordi vi allerede fikk treff på en tidligere kontroll i strukturen. Når man får treff på en kontroll blir de tilhørende handlingene utført, og så blir INGEN andre kontroller utført."
   ]
  },
  {
   "cell_type": "markdown",
   "id": "4a5f0c12-a1a7-48f4-a74c-3cdd1fa63647",
   "metadata": {},
   "source": [
    "### Flere elif etter hverandre\n",
    "Vi kan ha if-elif-strukturer som har flere \"elif\"-nivåer etter hverandre. Det er ennå slik at maksimalt ETT av handlingssporene kan følges. Når vi får en treff blir ingen andre kontroller utført."
   ]
  },
  {
   "cell_type": "code",
   "execution_count": 28,
   "id": "f4c3ad35-ad73-4dd0-89d9-97603dc484b9",
   "metadata": {},
   "outputs": [
    {
     "name": "stdout",
     "output_type": "stream",
     "text": [
      "på\n"
     ]
    }
   ],
   "source": [
    "x = 2\n",
    "y = 3\n",
    "\n",
    "if x > 3:\n",
    "    print('Hei')\n",
    "elif x > 0:\n",
    "    print('på')\n",
    "elif y > 0:\n",
    "    print('deg.')"
   ]
  },
  {
   "cell_type": "markdown",
   "id": "2fc12e8c-2ed3-4a2a-a793-7dd7e76c305f",
   "metadata": {},
   "source": [
    "#### Oppgave 1 elif\n",
    "Tenk over hva som vil printes dersom følgende kommandoer kjøres. Når du har tenkt over det og skrevet ned resultatet, kjør kommandoene i en ny celle.\n",
    "```\n",
    "x = 'grønnsak'\n",
    "y = 'kjøtt'\n",
    "z = 'fisk'\n",
    "if x == 'fisk':\n",
    "    print('Den første er fisk!')\n",
    "elif y == 'kjøtt':\n",
    "    print('Den andre er kjøtt!')\n",
    "elif z == 'fisk':\n",
    "    print('Den tredje er fisk!')\n",
    "```"
   ]
  },
  {
   "cell_type": "code",
   "execution_count": 29,
   "id": "26851433-c9b7-48c3-a3d1-8da3d036f630",
   "metadata": {},
   "outputs": [
    {
     "name": "stdout",
     "output_type": "stream",
     "text": [
      "Den andre er kjøtt!\n"
     ]
    }
   ],
   "source": [
    "x = 'grønnsak'\n",
    "y = 'kjøtt'\n",
    "z = 'fisk'\n",
    "if x == 'fisk':\n",
    "    print('Den første er fisk!')\n",
    "elif y == 'kjøtt':\n",
    "    print('Den andre er kjøtt!')\n",
    "elif z == 'fisk':\n",
    "    print('Den tredje er fisk!')"
   ]
  },
  {
   "cell_type": "markdown",
   "id": "ba130464-87b1-450d-a73d-ff1fa1c6ae39",
   "metadata": {},
   "source": [
    "#### Oppgave 2 elif\n",
    "Lag en if-elif-struktur som beregner f(x) for følgende funksjon:\n",
    "$f(x) = \n",
    "\\left\\{\n",
    "\t\\begin{array}{ll}\n",
    "        0 & \\mbox{if } x < 0 \\\\\n",
    "\t\t2x  & \\mbox{if } 0 \\leq x < 3 \\\\\n",
    "\t\t-x & \\mbox{if } 3 \\leq x < 4 \\\\\n",
    "        0 & \\mbox{if } 4 \\leq x \\\\\n",
    "\t\\end{array}\n",
    "\\right.$\n",
    "\n",
    "Kjør koden med ulike verdier for x for å sjekke at den virker i alle intervaller og grensepunkter mellom intervaller."
   ]
  },
  {
   "cell_type": "code",
   "execution_count": 30,
   "id": "109ee1ec-fd72-4701-a6a3-60529ccfea3c",
   "metadata": {},
   "outputs": [
    {
     "name": "stdout",
     "output_type": "stream",
     "text": [
      "0\n"
     ]
    }
   ],
   "source": [
    "x = -3\n",
    "\n",
    "if x < 0:\n",
    "    f = 0\n",
    "elif x < 3:\n",
    "    f = 2*x\n",
    "elif x < 4:\n",
    "    f = -x\n",
    "elif x >= 4:\n",
    "    f = 0\n",
    "\n",
    "print(f)"
   ]
  },
  {
   "cell_type": "code",
   "execution_count": 31,
   "id": "d772a699-c559-465e-a9c5-602be5af14a5",
   "metadata": {},
   "outputs": [
    {
     "name": "stdout",
     "output_type": "stream",
     "text": [
      "0\n"
     ]
    }
   ],
   "source": [
    "# Oppgaven kan også løses som vist her (og på flere andre måter).\n",
    "x = -3\n",
    "\n",
    "if x < 0:\n",
    "    f = 0\n",
    "elif 0 <= x < 3:\n",
    "    f = 2*x\n",
    "elif 3 <= x < 4:\n",
    "    f = -x\n",
    "elif 4 <= x:\n",
    "    f = 0\n",
    "\n",
    "print(f)"
   ]
  },
  {
   "cell_type": "markdown",
   "id": "4275fd1f-d43e-4530-aeda-7ac4bf2f3036",
   "metadata": {},
   "source": [
    "## Else\n",
    "Vi skal nå utvide både if-strukturer og elif-strukturer. Vi kan legge til \"else\" på slutten av if-strukturer eller elif-strukturer. Det den gjør er å legge inn et siste alternativ som SKAL gjennomføres dersom vi ikke har fått treff på noen av de tidligere kontrollene. Det er avgjørende å innse at hvis man har en \"else\" vil nøyaktig ETT av handlingssporene følges. Uten \"else\" vil ett eller ingen spor følges, men nå vet vi at noe skjer uansett."
   ]
  },
  {
   "cell_type": "code",
   "execution_count": 32,
   "id": "adda46ac-da10-4f70-bf3a-c1895caffa43",
   "metadata": {},
   "outputs": [
    {
     "name": "stdout",
     "output_type": "stream",
     "text": [
      "Slapp av hele dagen!\n"
     ]
    }
   ],
   "source": [
    "dag = 'mandag'\n",
    "\n",
    "if dag == 'tirsdag':\n",
    "    print('Gå på håndballtrening.')\n",
    "elif dag == 'torsdag':\n",
    "    print('Gå på kino.')\n",
    "elif dag == 'fredag':\n",
    "    print('Klipp gresset.')\n",
    "else:\n",
    "    print('Slapp av hele dagen!')"
   ]
  },
  {
   "cell_type": "markdown",
   "id": "101180b6-c1d4-46a5-a4d3-5dadbfb52ba0",
   "metadata": {},
   "source": [
    "#### Oppgave else\n",
    "Lag en if-elif-else-struktur som bruker variabelen \"måned\" og printer antall dager i måneden. Ignorer skuddår. Skriv koden med så få linjer som mulig."
   ]
  },
  {
   "cell_type": "code",
   "execution_count": 33,
   "id": "40ea3761-a318-476c-ab7f-cc5c183fe43a",
   "metadata": {},
   "outputs": [
    {
     "name": "stdout",
     "output_type": "stream",
     "text": [
      "Måneden januar har 31 dager.\n"
     ]
    }
   ],
   "source": [
    "måned = \"januar\"\n",
    "\n",
    "if måned == \"januar\" or måned == \"mars\" or måned == \"mai\" or måned == \"juli\" or måned == \"august\" or måned == \"oktober\" or måned == \"desember\":\n",
    "    print(\"Måneden\",måned,\"har 31 dager.\")\n",
    "elif måned == \"april\" or måned == \"juni\" or måned == \"september\" or måned == \"november\":\n",
    "    print(\"Måneden\",måned,\"har 31 dager.\")\n",
    "elif måned == \"februar\":\n",
    "    print(\"Måneden\",måned,\"har 28 eller 29 dager.\")"
   ]
  },
  {
   "cell_type": "code",
   "execution_count": 34,
   "id": "aab9b7e9-0f10-4236-b724-1b1f1a4404dc",
   "metadata": {},
   "outputs": [
    {
     "name": "stdout",
     "output_type": "stream",
     "text": [
      "Måneden januar har 31 dager.\n"
     ]
    }
   ],
   "source": [
    "# Oppgaven kan løses litt mer elegant ved å bruke lister.\n",
    "\n",
    "måned = \"januar\"\n",
    "\n",
    "if måned in [\"januar\", \"mars\", \"mai\", \"juli\", \"august\", \"oktober\", \"desember\"]:\n",
    "    print(\"Måneden\",måned,\"har 31 dager.\")\n",
    "elif måned in [\"april\", \"juni\", \"september\", \"november\"]:\n",
    "    print(\"Måneden\",måned,\"har 31 dager.\")\n",
    "elif måned == \"februar\":\n",
    "    print(\"Måneden\",måned,\"har 28 eller 29 dager.\")"
   ]
  },
  {
   "cell_type": "markdown",
   "id": "6ce97bc5-9edc-41ce-b0fb-bfca3739d7de",
   "metadata": {},
   "source": [
    "# Lister (engelsk: lists)\n",
    "En liste er en rekke elementer. Elementene kan være omtrent hva som helst, f.eks. tekst (string), tall, andre lister. Mange av metodene for lister er tilsvarende som for strenger. Det er mange metoder for lister, og vi skal se på de enkleste.\n",
    "\n",
    "## Opprettelse av en liste\n",
    "Vi kan lage en liste på flere måter. Den enkleste er å skrive et par firkant-parenteser med null, ett eller flere elementer i mellom, adskilt med komma. Jeg bruker også mellomrom for at det skal være lettere å lese.\n",
    "* []\n",
    "* [element]\n",
    "* [element1, element2, element3]\n",
    "\n",
    "Under ser vi hvordan tre ulike lister ser ut. Vi kan ha både heltall, desimaltall, regnestykker, tekst og lister (og mange andre ting) som elementer i lister. Legg merke til at det siste elementet i den siste listen er en liste i seg selv."
   ]
  },
  {
   "cell_type": "code",
   "execution_count": 35,
   "id": "1bcd447f-d567-47c5-9e97-95e150bb3f04",
   "metadata": {},
   "outputs": [
    {
     "name": "stdout",
     "output_type": "stream",
     "text": [
      "[]\n",
      "['drue']\n",
      "[4, 2.5, 55, 'banan', [7, 6, 5, 'eple']]\n"
     ]
    }
   ],
   "source": [
    "liste1 = []\n",
    "liste2 = [\"drue\"]\n",
    "liste3 = [4, 2.5, 3+4*13, \"banan\", [7, 6, 5, \"eple\"]]\n",
    "print(liste1)\n",
    "print(liste2)\n",
    "print(liste3)"
   ]
  },
  {
   "cell_type": "markdown",
   "id": "a83f58f6-f716-4452-971f-de98414e1864",
   "metadata": {},
   "source": [
    "## Elementer og utvalg ved bruk av index\n",
    "Vi kan plukke ut elementer fra en liste på flere måter. Den enkleste er å lese ut elementet med index i: liste[i]"
   ]
  },
  {
   "cell_type": "code",
   "execution_count": 36,
   "id": "71047706-e66b-4e3e-b6d9-29e7f5bd6daa",
   "metadata": {},
   "outputs": [
    {
     "name": "stdout",
     "output_type": "stream",
     "text": [
      "['Hello World!', 4, 3.9, 'Mer tekst her.', 55, 0.1234, 'a', 'b', 'c', 'Goodbye World!']\n",
      "Hello World!\n",
      "3.9\n",
      "Goodbye World!\n"
     ]
    }
   ],
   "source": [
    "listen = ['Hello World!', 4, 3.9, 'Mer tekst her.', 3+4*13, 0.1234, \"a\", \"b\", \"c\", \"Goodbye World!\"]\n",
    "print(listen)\n",
    "alpha = listen[0]\n",
    "print(alpha)\n",
    "print(listen[2])\n",
    "print(listen[-1])"
   ]
  },
  {
   "cell_type": "markdown",
   "id": "b1dbf792-61f6-4b92-91ac-a1e1e2b95964",
   "metadata": {},
   "source": [
    "## Lister i lister\n",
    "Vi kan finne elementer i lister i lister ved å legge på en ekstra [j] bak liste[i]: liste[i][j] velger elementet med index j i elementet med index i i selve listen."
   ]
  },
  {
   "cell_type": "code",
   "execution_count": 37,
   "id": "44ef6158-4eb2-4f51-90a0-bab89aa22bac",
   "metadata": {},
   "outputs": [
    {
     "name": "stdout",
     "output_type": "stream",
     "text": [
      "[4, 2.5, 55, 'banan', [7, 6, 5, 'eple']]\n",
      "[7, 6, 5, 'eple']\n",
      "5\n",
      "7\n"
     ]
    }
   ],
   "source": [
    "listen = [4, 2.5, 3+4*13, \"banan\", [7, 6, 5, \"eple\"]]\n",
    "print(listen)\n",
    "print(listen[-1])\n",
    "print(listen[-1][2])\n",
    "x = listen[-1][0]\n",
    "print(x)"
   ]
  },
  {
   "cell_type": "markdown",
   "id": "de1e93c0-23d7-4ed7-8774-51b05da9c632",
   "metadata": {},
   "source": [
    "#### Oppgave 1 lister\n",
    "Her bruker vi listen = ['Hello World!', 4, 3.9, 'Mer tekst her.', 3+4*13, 0.1234, \"a\", \"b\", \"c\", \"Goodbye World!\"]\n",
    "\n",
    "Tenk over hva som vil printes dersom følgende kommandoer kjøres. Etter at du har bestemt deg og skrevet ned svaret ditt, kjør kommandoene og sjekk om det stemte.\n",
    "\n",
    "```\n",
    "listen = ['Hello World!', 4, 3.9, 'Mer tekst her.', 3+4*13, 0.1234, \"a\", \"b\", \"c\", \"Goodbye World!\"]\n",
    "print(listen[0])\n",
    "print(listen[10])\n",
    "```"
   ]
  },
  {
   "cell_type": "code",
   "execution_count": 38,
   "id": "e7566e34-cd0f-4e05-8aca-ab4d8539ea74",
   "metadata": {},
   "outputs": [
    {
     "name": "stdout",
     "output_type": "stream",
     "text": [
      "Hello World!\n"
     ]
    },
    {
     "ename": "IndexError",
     "evalue": "list index out of range",
     "output_type": "error",
     "traceback": [
      "\u001b[0;31m---------------------------------------------------------------------------\u001b[0m",
      "\u001b[0;31mIndexError\u001b[0m                                Traceback (most recent call last)",
      "Cell \u001b[0;32mIn[38], line 3\u001b[0m\n\u001b[1;32m      1\u001b[0m listen \u001b[38;5;241m=\u001b[39m [\u001b[38;5;124m'\u001b[39m\u001b[38;5;124mHello World!\u001b[39m\u001b[38;5;124m'\u001b[39m, \u001b[38;5;241m4\u001b[39m, \u001b[38;5;241m3.9\u001b[39m, \u001b[38;5;124m'\u001b[39m\u001b[38;5;124mMer tekst her.\u001b[39m\u001b[38;5;124m'\u001b[39m, \u001b[38;5;241m3\u001b[39m\u001b[38;5;241m+\u001b[39m\u001b[38;5;241m4\u001b[39m\u001b[38;5;241m*\u001b[39m\u001b[38;5;241m13\u001b[39m, \u001b[38;5;241m0.1234\u001b[39m, \u001b[38;5;124m\"\u001b[39m\u001b[38;5;124ma\u001b[39m\u001b[38;5;124m\"\u001b[39m, \u001b[38;5;124m\"\u001b[39m\u001b[38;5;124mb\u001b[39m\u001b[38;5;124m\"\u001b[39m, \u001b[38;5;124m\"\u001b[39m\u001b[38;5;124mc\u001b[39m\u001b[38;5;124m\"\u001b[39m, \u001b[38;5;124m\"\u001b[39m\u001b[38;5;124mGoodbye World!\u001b[39m\u001b[38;5;124m\"\u001b[39m]\n\u001b[1;32m      2\u001b[0m \u001b[38;5;28mprint\u001b[39m(listen[\u001b[38;5;241m0\u001b[39m])\n\u001b[0;32m----> 3\u001b[0m \u001b[38;5;28mprint\u001b[39m(\u001b[43mlisten\u001b[49m\u001b[43m[\u001b[49m\u001b[38;5;241;43m10\u001b[39;49m\u001b[43m]\u001b[49m)\n",
      "\u001b[0;31mIndexError\u001b[0m: list index out of range"
     ]
    }
   ],
   "source": [
    "listen = ['Hello World!', 4, 3.9, 'Mer tekst her.', 3+4*13, 0.1234, \"a\", \"b\", \"c\", \"Goodbye World!\"]\n",
    "print(listen[0])\n",
    "print(listen[10])"
   ]
  },
  {
   "cell_type": "markdown",
   "id": "62ea856f-9b01-4fad-923c-c53f7580a2f3",
   "metadata": {},
   "source": [
    "Det er riktig at vi får en IndexError. Listen har bare 10 elementer, og vi begynner å telle på 0. Det betyr at ved å bruke [10] ber vi egentlig om det ellevte elementet i listen. Det eksisterer ikke noe ellevte element i listen, så programmet krasjer."
   ]
  },
  {
   "cell_type": "markdown",
   "id": "41d19a5a-3c38-4636-8af1-698f91b0370f",
   "metadata": {},
   "source": [
    "#### Oppgave 2 lister\n",
    "* Lag en liste som består av tre ting: tallet 2, teksten \"katt\" og en liste som består av tre valgfrie elementer.\n",
    "* Skriv kommandoer som bruker indexer i listen til å printe tallet 2, printer den indre listen, og som printer hvert element i den indre listen.\n",
    "\n",
    "Prøv gjerne å gjøre dette med både positive og negative indexer."
   ]
  },
  {
   "cell_type": "code",
   "execution_count": 39,
   "id": "7ff7af83-b8f7-4fd5-9d91-2c56dd7900ce",
   "metadata": {},
   "outputs": [
    {
     "name": "stdout",
     "output_type": "stream",
     "text": [
      "2\n",
      "['hest', 5, 33]\n",
      "hest\n",
      "5\n",
      "33\n"
     ]
    }
   ],
   "source": [
    "listen = [2, \"katt\", [\"hest\", 5, 33]]\n",
    "print(listen[0])\n",
    "print(listen[2])\n",
    "print(listen[2][0])\n",
    "print(listen[2][1])\n",
    "print(listen[2][2])"
   ]
  },
  {
   "cell_type": "markdown",
   "id": "1d7cc339-82bf-46da-a789-dacb7d64ae0a",
   "metadata": {},
   "source": [
    "## Lengden av en liste\n",
    "Vi kan finne antall elementer i en liste ved å bruke len(liste). Dette er en svært nyttig kommando som brukes i mange sammenhenger. For å se det må vi bli bedre kjent med flere verktøy, som f.eks. løkker (engelsk: loops)."
   ]
  },
  {
   "cell_type": "code",
   "execution_count": 40,
   "id": "018076ef-4e91-4ef3-bc78-e0765ca35af9",
   "metadata": {},
   "outputs": [
    {
     "name": "stdout",
     "output_type": "stream",
     "text": [
      "0\n",
      "1\n",
      "5\n",
      "4\n"
     ]
    }
   ],
   "source": [
    "liste1 = []\n",
    "liste2 = [\"drue\"]\n",
    "liste3 = [4, 2.5, 3+4*13, \"banan\", [7, 6, 5, \"eple\"]]\n",
    "print(len(liste1))\n",
    "print(len(liste2))\n",
    "print(len(liste3))\n",
    "print(len(liste3[-1]))"
   ]
  },
  {
   "cell_type": "markdown",
   "id": "d0702ccb-c4be-40ff-8a25-d4c559d070cd",
   "metadata": {},
   "source": [
    "## Utvidelse av lister\n",
    "Vi kan utvide en liste med nytt innhold på flere måter. Vi kan sette inn et bestemt element en bestemt plass i listen vår, sette inn innholdet fra en annen liste mellom to elementer i listen vår eller å legge til ett eller flere elementer på slutten av listen vår.\n",
    "\n",
    "Legg særlig merke til forskjellen på extend og append. Det er viktig å vite om vi legger til et element som er en liste, eller om vi tar alle elementene fra en liste og legger dem til hver for seg."
   ]
  },
  {
   "cell_type": "code",
   "execution_count": 41,
   "id": "d287cc18-a4ab-46cd-8fb0-4cc1e733c5f1",
   "metadata": {},
   "outputs": [
    {
     "name": "stdout",
     "output_type": "stream",
     "text": [
      "[0, 1, 2, 3, 4, 5, 6, 7, 'Tiger', 8, 9]\n",
      "[0, 1, 2, 3, 'Løve', 'Panter', 'Gepard', 4, 5, 6, 7, 'Tiger', 8, 9]\n",
      "[0, 1, 2, 3, 4, 5, 6, 7, 8, 9, 'Løve', 'Panter', 'Gepard']\n",
      "[0, 1, 2, 3, 4, 5, 6, 7, 8, 9, ['Løve', 'Panter', 'Gepard']]\n"
     ]
    }
   ],
   "source": [
    "listen = [0, 1, 2, 3, 4, 5, 6, 7, 8, 9]\n",
    "tillegg = [\"Løve\", \"Panter\", \"Gepard\"]\n",
    "listen.insert(8, \"Tiger\") # Setter inn \"Tiger\" på index 8.\n",
    "print(listen)\n",
    "\n",
    "listen[4:4] = tillegg # Setter inn elementene fra \"tillegg\" enkeltvis på index 4 og utover, altså mellom index 3 og 4 i eksisterende liste.\n",
    "print(listen)\n",
    "\n",
    "listen = [0, 1, 2, 3, 4, 5, 6, 7, 8, 9]\n",
    "listen.extend(tillegg) # Utvider listen med elementene i \"tillegg\".\n",
    "print(listen)\n",
    "\n",
    "listen = [0, 1, 2, 3, 4, 5, 6, 7, 8, 9]\n",
    "listen.append(tillegg) # Legger til ett eneste nytt element. Det elementet er en egen liste.\n",
    "print(listen)"
   ]
  },
  {
   "cell_type": "markdown",
   "id": "e7a2fed6-20bb-40c1-9e21-9491c80fd071",
   "metadata": {},
   "source": [
    "#### Oppgave utvidelse av lister\n",
    "Bruk listene under og metodene vist over til å lage følgende liste:\n",
    "\n",
    "[0, 1, 'katt', 'hund', 'ulv', 2, 3, 4, 5, ['appelsin', 'banan', 'citrus', 'drue'], 'katt', 'hund', 'ulv']"
   ]
  },
  {
   "cell_type": "code",
   "execution_count": 42,
   "id": "a5b438c7-0734-4dda-94eb-b1904eeae170",
   "metadata": {},
   "outputs": [
    {
     "name": "stdout",
     "output_type": "stream",
     "text": [
      "[0, 1, 'katt', 'hund', 'ulv', 2, 3, 4, 5, ['appelsin', 'banan', 'citrus', 'drue'], 'katt', 'hund', 'ulv']\n"
     ]
    }
   ],
   "source": [
    "liste1 = [0, 1, 2, 3, 4, 5]\n",
    "liste2 = [\"katt\", \"hund\", \"ulv\"]\n",
    "liste3 = [\"appelsin\", \"banan\", \"citrus\", \"drue\"]\n",
    "\n",
    "liste1[2:2] = liste2\n",
    "liste1.append(liste3)\n",
    "liste1.extend(liste2)\n",
    "\n",
    "print(liste1)"
   ]
  },
  {
   "cell_type": "markdown",
   "id": "c199a600-55c8-4d0e-b965-909c425447ac",
   "metadata": {},
   "source": [
    "# Løkker (engelsk: loops)\n",
    "Løkker er et helt sentralt verktøy for programmering. De brukes dersom et sett med handlinger skal gjentas flere ganger. Det finnes to typer løkker, for-løkker og while-løkker. For-løkker brukes dersom et sett med handlinger skal gjentas et bestemt antall ganger. While-løkker brukes dersom vi ikke vet hvor mange ganger handlingene skal gjentas, men hvis vi kan kontrollere en variabel underveis og vet når vi kan stoppe løkken."
   ]
  },
  {
   "cell_type": "markdown",
   "id": "c7cb8212-4d13-40cc-843f-9896a49f3185",
   "metadata": {},
   "source": [
    "## For-løkker (med range)\n",
    "Disse løkkene brukes hvis vi vet hvor mange ganger handlingene skal gjentas. Et eksempel på dette kan være dersom vi ønsker å beregne funksjonsverdiene for en matematisk funksjon for hver (heltalls) x-verdi fra og med -3 til og med 10. Da skal vi gjøre beregninger etter samme regel 14 ganger. Det kan gjøres som vist under. Legg merke til at linjen med \"for\" avsluttes med kolon og at neste linje står med innrykk, tilsvarende som for if-else-strukturene."
   ]
  },
  {
   "cell_type": "code",
   "execution_count": 43,
   "id": "a46fc397-1e3c-40d4-9593-94413ef5fb59",
   "metadata": {},
   "outputs": [
    {
     "name": "stdout",
     "output_type": "stream",
     "text": [
      "-3 9\n",
      "-2 4\n",
      "-1 1\n",
      "0 0\n",
      "1 1\n",
      "2 4\n",
      "3 9\n",
      "4 16\n",
      "5 25\n",
      "6 36\n",
      "7 49\n",
      "8 64\n",
      "9 81\n",
      "10 100\n"
     ]
    }
   ],
   "source": [
    "for x in range(-3, 11):\n",
    "    print(x, x**2) # De to stjernene betyr \"opphøyd i\", altså \"x i andre minus fem\""
   ]
  },
  {
   "cell_type": "markdown",
   "id": "34299591-5e9d-4425-abfc-cbfac703c4e6",
   "metadata": {},
   "source": [
    "Her brukte jeg \"range\"-funksjonen for å generere x-verdiene fra og med -3 til og med 10. Egentlig genererer denne verdier fra og med -3 til (men ikke med) 11. Husk at i range-funksjonen er det første tallet lik startverdien vår, mens det andre tallet er én større enn sluttverdien. Range-funksjonen genererer bare heltall. Vi skal senere se hvordan vi kan generere desimaltall.\n",
    "\n",
    "Det som skjer er at en variabel x opprettes og gis verdien -3. Deretter blir koden med innrykk kjørt. Deretter får x sin neste verdi, og koden med innrykk blir kjørt igjen. Variabelen som får en ny verdi for hver gjennomkjøring av løkken kalles ofte en tellevariabel eller iterasjonsvariabel.\n",
    "\n",
    "Det har ikke noe å si hva vi skriver på den plassen x står i eksempelet over. Det er vanlig å bruke i som tellevariabel, men det er lurt å bruke en bokstav som gjør at vi skjønner koden lettere når vi leser. Siden jeg her jobbet med en funksjon f(x) var x et naturlig valg. Under ser du at vi kan bruke et annet navn. Vi må bare huske på hvilket variabelnavn som er tellevariabelen, og bruke det variabelnavnet i koden med innrykk."
   ]
  },
  {
   "cell_type": "code",
   "execution_count": 44,
   "id": "3fa35afb-8945-463d-80df-e6c3613edc3a",
   "metadata": {},
   "outputs": [
    {
     "name": "stdout",
     "output_type": "stream",
     "text": [
      "-3 9\n",
      "-2 4\n",
      "-1 1\n",
      "0 0\n",
      "1 1\n",
      "2 4\n",
      "3 9\n",
      "4 16\n",
      "5 25\n",
      "6 36\n",
      "7 49\n",
      "8 64\n",
      "9 81\n",
      "10 100\n"
     ]
    }
   ],
   "source": [
    "for kattepus in range(-3, 11):\n",
    "    print(kattepus, kattepus**2)"
   ]
  },
  {
   "cell_type": "markdown",
   "id": "b364f3a6-94fc-454f-99ad-8091089af3dd",
   "metadata": {},
   "source": [
    "#### Oppgave 1 for-løkker\n",
    "Tenk over hva som vil printes dersom følgende kommandoer kjøres. Når du har tenkt over det og skrevet ned resultatet, kjør kommandoene i en ny celle.\n",
    "```\n",
    "for p in range(3, 8):\n",
    "    print(p, p**2)\n",
    "```"
   ]
  },
  {
   "cell_type": "code",
   "execution_count": 45,
   "id": "00e6ab35-7430-4574-8f90-ba4032c790e2",
   "metadata": {},
   "outputs": [
    {
     "name": "stdout",
     "output_type": "stream",
     "text": [
      "3 9\n",
      "4 16\n",
      "5 25\n",
      "6 36\n",
      "7 49\n"
     ]
    }
   ],
   "source": [
    "for p in range(3, 8):\n",
    "    print(p, p**2)"
   ]
  },
  {
   "cell_type": "markdown",
   "id": "54d30af7-0f2f-4bdd-b7ac-956c982f03e3",
   "metadata": {},
   "source": [
    "#### Oppgave 2 for-løkker\n",
    "Øving: Skriv en for-løkke som gir følgende print på skjermen når den kjøres:\n",
    ">     -6\n",
    ">     -3\n",
    ">     0\n",
    ">     3\n",
    "\n",
    "Kan du finne flere for-løkker som fungerer som løsning på denne oppgaven?"
   ]
  },
  {
   "cell_type": "code",
   "execution_count": 46,
   "id": "1f06ec2e-29e6-4830-b40a-ec689ef67090",
   "metadata": {},
   "outputs": [
    {
     "name": "stdout",
     "output_type": "stream",
     "text": [
      "-6\n",
      "-3\n",
      "0\n",
      "3\n"
     ]
    }
   ],
   "source": [
    "for i in range(4):\n",
    "    print(3*i - 6)"
   ]
  },
  {
   "cell_type": "code",
   "execution_count": 47,
   "id": "d6a8aa54-9c28-4c07-9fa2-1189a8cc1d46",
   "metadata": {},
   "outputs": [
    {
     "name": "stdout",
     "output_type": "stream",
     "text": [
      "-6\n",
      "-3\n",
      "0\n",
      "3\n"
     ]
    }
   ],
   "source": [
    "for i in range(-6,4,3):\n",
    "    print(i)"
   ]
  },
  {
   "cell_type": "markdown",
   "id": "371a276f-a48f-4da3-9757-8e2d90b042c0",
   "metadata": {},
   "source": [
    "For å skrive tekst og tall samtidig kan vi bruke str() til å omforme tallet til tekst."
   ]
  },
  {
   "cell_type": "code",
   "execution_count": 48,
   "id": "2cdb56c2-bd1d-4f39-9aa7-109346e9b59a",
   "metadata": {},
   "outputs": [
    {
     "name": "stdout",
     "output_type": "stream",
     "text": [
      "1\n",
      "Telleren viser nå: 1\n",
      "Nå går vi videre til neste verdi av tellevariabelen.\n",
      "2\n",
      "Telleren viser nå: 2\n",
      "Nå går vi videre til neste verdi av tellevariabelen.\n",
      "3\n",
      "Telleren viser nå: 3\n",
      "Nå går vi videre til neste verdi av tellevariabelen.\n",
      "4\n",
      "Telleren viser nå: 4\n",
      "Nå går vi videre til neste verdi av tellevariabelen.\n",
      "5\n",
      "Telleren viser nå: 5\n",
      "Nå går vi videre til neste verdi av tellevariabelen.\n"
     ]
    }
   ],
   "source": [
    "n = 6\n",
    "for k in range(1, n):\n",
    "    print(k)\n",
    "    print(\"Telleren viser nå: \"+str(k))\n",
    "    print(\"Nå går vi videre til neste verdi av tellevariabelen.\")"
   ]
  },
  {
   "cell_type": "markdown",
   "id": "39883621-ac94-43b1-8a36-38104635148b",
   "metadata": {},
   "source": [
    "#### Oppgave 3 for-løkker\n",
    "Skriv en for-løkke som gir følgende print på skjermen når den kjøres:\n",
    ">     1\n",
    ">     Summen så langt er 1.\n",
    ">     2\n",
    ">     Summen så langt er 3.\n",
    ">     3\n",
    ">     Summen så langt er 6.\n",
    ">     4\n",
    ">     Summen så langt er 10.\n",
    ">     Summen totalt ble 10.\n",
    "\n",
    "Koden bør ta ca. 6 linjer. Bruk gjerne \"skjelett\"-koden under som utgangspunkt. Du kan slette forslaget og skrive din egen kode om du vil."
   ]
  },
  {
   "cell_type": "code",
   "execution_count": 49,
   "id": "c435b257-3b3d-4dd7-abd2-595ff89d82dc",
   "metadata": {},
   "outputs": [
    {
     "name": "stdout",
     "output_type": "stream",
     "text": [
      "1\n",
      "Summen så langt er 1.\n",
      "2\n",
      "Summen så langt er 3.\n",
      "3\n",
      "Summen så langt er 6.\n",
      "4\n",
      "Summen så langt er 10.\n",
      "Summen totalt ble 10.\n"
     ]
    }
   ],
   "source": [
    "summen = 0\n",
    "for i in range(1, 5):\n",
    "    summen = summen + i\n",
    "    print(i)\n",
    "    print(\"Summen så langt er\", str(summen) + \".\")\n",
    "print(\"Summen totalt ble\", str(summen) + \".\")"
   ]
  },
  {
   "cell_type": "markdown",
   "id": "065dd2ae-479d-465e-a57e-562516ed700d",
   "metadata": {},
   "source": [
    "#### Oppgave 4 for-løkke\n",
    "Fullfør koden under for å skape en løkke som går gjennom en liste med tall og printer de tallene som er 20 eller større."
   ]
  },
  {
   "cell_type": "code",
   "execution_count": 50,
   "id": "f6682fa9-e9a0-4680-b345-9ac6e205477c",
   "metadata": {},
   "outputs": [
    {
     "name": "stdout",
     "output_type": "stream",
     "text": [
      "54\n",
      "95\n",
      "20\n",
      "102.9\n"
     ]
    }
   ],
   "source": [
    "tall_liste = [54, 12.3, 95, 2.39, 20, 8, 102.9]\n",
    "for i in range(len(tall_liste)):\n",
    "    if tall_liste[i] >= 20:           # Sjekk om tallet er 20 eller større.\n",
    "        print(tall_liste[i])"
   ]
  },
  {
   "cell_type": "markdown",
   "id": "217dbdfc-5451-48be-ab53-e9ed414792b5",
   "metadata": {},
   "source": [
    "## For-løkker (med liste)\n",
    "Alternativet til å bruke range-funksjonen for å generere heltall er å bruke en liste. Tellevariabelen eller iterasjonsvariabelen brukes på samme måte, men den får nå helt andre verdier. Med range må den være et heltall, nå kan den være hva som helst, til og med tekst, lister, funksjoner osv. Måten det virker på er at iterasjonsvariabelen får først verdien til første element i listen, deretter verdien til neste element i listen, osv. til vi er gjennom hele listen."
   ]
  },
  {
   "cell_type": "code",
   "execution_count": 51,
   "id": "b1233413-8f4f-4672-a7f7-6d4ebc87148f",
   "metadata": {},
   "outputs": [
    {
     "name": "stdout",
     "output_type": "stream",
     "text": [
      "1\n",
      "4\n",
      "3\n",
      "Kari\n",
      "Petter\n",
      "[5, 4, 3]\n",
      "-5\n"
     ]
    }
   ],
   "source": [
    "tingtang = [1, 4, 3, 'Kari', 'Petter', [5, 4, 3], -5]\n",
    "for element in tingtang:\n",
    "    print(element)"
   ]
  },
  {
   "cell_type": "code",
   "execution_count": 52,
   "id": "aa7f5802-71bd-4c74-8db2-fd630b4e7a80",
   "metadata": {},
   "outputs": [
    {
     "name": "stdout",
     "output_type": "stream",
     "text": [
      "Nestemann ut er Kari.\n",
      "Nestemann ut er Petter.\n",
      "Nestemann ut er Lars.\n",
      "Nestemann ut er Emma.\n"
     ]
    }
   ],
   "source": [
    "navneliste = ['Kari', 'Petter', 'Lars', 'Emma']\n",
    "for navn in navneliste:\n",
    "    print('Nestemann ut er ' + navn + '.')"
   ]
  },
  {
   "cell_type": "markdown",
   "id": "e310086d-a443-4ab4-8d76-1bd10fe5d88a",
   "metadata": {},
   "source": [
    "#### Oppgave 5 for-løkker\n",
    "* Lag en liste som består av minst fire tall. Det kan være både heltall og desimaltall, velg selv.\n",
    "* Lag en variabel som starter med verdien 0.\n",
    "* Lag en for-løkke som summerer tallene i listen.\n",
    "* Print til slutt verdien av variabelen med summen."
   ]
  },
  {
   "cell_type": "code",
   "execution_count": 53,
   "id": "af6453bc-ece3-4f0a-83b2-38bdda321e4f",
   "metadata": {},
   "outputs": [
    {
     "name": "stdout",
     "output_type": "stream",
     "text": [
      "12.3\n"
     ]
    }
   ],
   "source": [
    "listen = [5, 3.3, -6, 10]\n",
    "variabel = 0\n",
    "for tall in listen:\n",
    "    variabel = variabel + tall\n",
    "\n",
    "print(variabel)"
   ]
  },
  {
   "cell_type": "markdown",
   "id": "6cca7c67-a786-4795-9527-f508854c0e4e",
   "metadata": {},
   "source": [
    "#### Oppgave 6 for-løkke\n",
    "Fullfør koden under for å skape en løkke som går gjennom en liste med tall og printer de tallene som er 20 eller større."
   ]
  },
  {
   "cell_type": "code",
   "execution_count": 54,
   "id": "13a5db29-cf7a-4cd1-9970-9bb6dc831762",
   "metadata": {},
   "outputs": [
    {
     "name": "stdout",
     "output_type": "stream",
     "text": [
      "54\n",
      "95\n",
      "20\n",
      "102.9\n"
     ]
    }
   ],
   "source": [
    "tall_liste = [54, 12.3, 95, 2.39, 20, 8, 102.9]\n",
    "for tall in tall_liste:\n",
    "    if tall >= 20:           # Sjekk om tallet er 20 eller større.\n",
    "        print(tall)"
   ]
  },
  {
   "cell_type": "markdown",
   "id": "6a5ea040-5c08-465a-b0ab-35d27fea5bab",
   "metadata": {},
   "source": [
    "## While-løkker\n",
    "Disse løkkene brukes dersom vi ikke vet hvor mange ganger handlingene skal utføres, men dersom vi vet når vi vil være ferdige. Et eksempel kan være at vi vil legge sammen heltallene fra og med 1 til summen av tallene er større enn 45. Vi vet ikke helt hvor mange tall vi skal legge sammen, men vi vet når vi skal stoppe.\n",
    "\n",
    "Mønsteret er:\n",
    "```\n",
    "Initialiser minst en variabel\n",
    "\n",
    "while logisk utsagn som inneholder variabelen over:\n",
    "\n",
    "    handlinger som må kunne endre verdien av variabelen\n",
    "```\n",
    "\n",
    "Dette kan være vanskelig å forstå isolert sett. Vi skal se på eksempler, men først en advarsel."
   ]
  },
  {
   "cell_type": "markdown",
   "id": "24e7e2ea-a8e8-43ff-9d6a-0eb87830d446",
   "metadata": {},
   "source": [
    "### Uendelige løkker\n",
    "Vær forsiktig med while-løkker, de kan bli uendelige løkker dersom vi skriver dem feil. Vi kan se at Python jobber med å kjøre kode i jupyter notebooks hvis det er en stjerne i firkanten til venstre for kodeblokken. For det aller meste vil vårt arbeid være over på et øyeblikk eller noen sekunder. Dersom stjernen ikke erstattes av et tall i løpet ti sekunder kan du trykke på \"Kernel\" og velge \"Interrupt Kernel\" i menyene øverst til venstre. Se cellen nedenfor som gjør det lett å se stjernen i firkanten."
   ]
  },
  {
   "cell_type": "code",
   "execution_count": 57,
   "id": "3afab25c-42e2-43cc-acaa-5e09c65c4db0",
   "metadata": {},
   "outputs": [],
   "source": [
    "for i in range(100000000):\n",
    "    None"
   ]
  },
  {
   "cell_type": "markdown",
   "id": "90bb3295-cfce-419f-9455-3325a4a0e7ab",
   "metadata": {},
   "source": [
    "Når du vet hva jeg mener med firkant, stjerne og du vet hvor \"Kernel\" og \"Interrupt\" er kan du kjøre koden i cellen under. Denne koden er en uendelig løkke, og du må avbryte den selv før du kan gjøre noe annet. (Det står \"KeyboardInterrupt\" fordi man i andre varianter av Python trykker ctrl+c for å avbryte)\n",
    "\n",
    "Dersom alt henger seg opp kan du avslutte og restarte selve Jupyter Notebook."
   ]
  },
  {
   "cell_type": "code",
   "execution_count": 58,
   "id": "f09e01e1-0722-454c-bae2-9b8d0b604e1a",
   "metadata": {},
   "outputs": [
    {
     "ename": "KeyboardInterrupt",
     "evalue": "",
     "output_type": "error",
     "traceback": [
      "\u001b[0;31m---------------------------------------------------------------------------\u001b[0m",
      "\u001b[0;31mKeyboardInterrupt\u001b[0m                         Traceback (most recent call last)",
      "Cell \u001b[0;32mIn[58], line 2\u001b[0m\n\u001b[1;32m      1\u001b[0m a \u001b[38;5;241m=\u001b[39m \u001b[38;5;241m3\u001b[39m\n\u001b[0;32m----> 2\u001b[0m \u001b[38;5;28;01mwhile\u001b[39;00m a \u001b[38;5;241m>\u001b[39m \u001b[38;5;241m0\u001b[39m:\n\u001b[1;32m      3\u001b[0m     \u001b[38;5;241m1\u001b[39m\u001b[38;5;241m+\u001b[39m\u001b[38;5;241m1\u001b[39m\n",
      "\u001b[0;31mKeyboardInterrupt\u001b[0m: "
     ]
    }
   ],
   "source": [
    "a = 3\n",
    "while a > 0:\n",
    "    1+1"
   ]
  },
  {
   "cell_type": "markdown",
   "id": "1ea333cd-2b5d-42a2-ab30-eefe10192511",
   "metadata": {},
   "source": [
    "Nå som du vet hvor nødstopp-knappen er kan vi se videre på løkkene. Under er et eksempel der du kan se at vi initialiserer en variabel, bruker den i et logisk utsagn, og modifiserer den i koden i innrykket."
   ]
  },
  {
   "cell_type": "code",
   "execution_count": 59,
   "id": "f5e657a1-4161-4312-8bb5-b0dfd5e1c218",
   "metadata": {},
   "outputs": [
    {
     "name": "stdout",
     "output_type": "stream",
     "text": [
      "3\n",
      "4\n",
      "5\n",
      "6\n",
      "7\n",
      "8\n"
     ]
    }
   ],
   "source": [
    "tall = 3\n",
    "while tall < 9:\n",
    "    print(tall)\n",
    "    tall += 1"
   ]
  },
  {
   "cell_type": "markdown",
   "id": "3d67f022-d010-4f3a-ba59-3f05b623a7cf",
   "metadata": {},
   "source": [
    "Hvorfor ble ikke tallet 9 printet av koden over? Koden skulle jo kjøre så lenge \"tall\" var mindre enn 9. Skriv ned hver handling som blir utført, så ser du nok hvorfor det er riktig at tallet 9 ikke blir printet.\n",
    "\n",
    "Under kommer et nytt eksempel. Denne koden skal summere heltallene fra og med 1 til summen er større enn 45. Deretter skal det siste tallet som ble lagt til og den endelige summen printes."
   ]
  },
  {
   "cell_type": "code",
   "execution_count": 60,
   "id": "2d647818-8bd8-408c-80b9-2fee303e3628",
   "metadata": {},
   "outputs": [
    {
     "name": "stdout",
     "output_type": "stream",
     "text": [
      "Det siste tallet som ble lagt til var 10 og summen ble da 55\n"
     ]
    }
   ],
   "source": [
    "summen = 0\n",
    "tallet = 0\n",
    "while summen <= 45:\n",
    "    tallet += 1\n",
    "    summen += tallet\n",
    "print(\"Det siste tallet som ble lagt til var\",tallet,\"og summen ble da\",summen)"
   ]
  },
  {
   "cell_type": "markdown",
   "id": "1a9b99a9-9532-408a-aebf-b5af88d97807",
   "metadata": {},
   "source": [
    "#### Oppgave 1 while-løkker\n",
    "Tenk over hva som vil printes dersom følgende kommandoer kjøres. Når du har tenkt over det og skrevet ned resultatet, kjør kommandoene i en ny celle.\n",
    "```\n",
    "i = 1\n",
    "\n",
    "while i < 8:\n",
    "    if i != 3:\n",
    "        print(i)\n",
    "    i = i + 1\n",
    "```"
   ]
  },
  {
   "cell_type": "code",
   "execution_count": 61,
   "id": "39cacdc6-543c-4117-b039-d7a6aafb6b56",
   "metadata": {},
   "outputs": [
    {
     "name": "stdout",
     "output_type": "stream",
     "text": [
      "1\n",
      "2\n",
      "4\n",
      "5\n",
      "6\n",
      "7\n"
     ]
    }
   ],
   "source": [
    "i = 1\n",
    "\n",
    "while i < 8:\n",
    "    if i != 3:\n",
    "        print(i)\n",
    "    i = i + 1"
   ]
  },
  {
   "cell_type": "markdown",
   "id": "c226e9d0-e0b7-4057-8913-36dd7e91d594",
   "metadata": {},
   "source": [
    "# Funksjoner (functions)\n",
    "Funksjoner er veldig nyttige for å bryte opp et program i mindre biter. De er også gode hvis vi skal gjenta handlinger flere ganger, men ikke rett etter hverandre. I tillegg kan funksjoner gjøre forskjellige ting avhengig av hva vi gir som input. Det vil være tydeligere hvordan funksjoner er forskjellige fra løkker når vi ser på hvordan de virker.\n",
    "\n",
    "Funksjoner er egentlig som i matematikken. En funksjon sier noe om hva man skal gjøre med en input. Funksjonen f(x) = 2x + 3 sier at vi skal gange inputen med 2, og så legge til 3. Det er i prinsippet sånn funksjoner i Python virker også.\n",
    "\n",
    "Det kan være greit å ha funksjoner i egne celler, men det er ikke nødvendig."
   ]
  },
  {
   "cell_type": "code",
   "execution_count": 62,
   "id": "2d0fbcbb-e8db-43d5-9071-f63b73617258",
   "metadata": {},
   "outputs": [],
   "source": [
    "def gjennomsnitt(tall1, tall2):\n",
    "    return((tall1+tall2)/2)"
   ]
  },
  {
   "cell_type": "code",
   "execution_count": 63,
   "id": "c07f278d-76c8-4423-99f1-da9679c14048",
   "metadata": {},
   "outputs": [
    {
     "name": "stdout",
     "output_type": "stream",
     "text": [
      "-1.0\n",
      "8.0\n",
      "3.5\n"
     ]
    }
   ],
   "source": [
    "a = gjennomsnitt(-5, 3)\n",
    "print(a)\n",
    "b = gjennomsnitt(6, 10)\n",
    "print(b)\n",
    "c = gjennomsnitt(a, b)\n",
    "print(c)"
   ]
  },
  {
   "cell_type": "markdown",
   "id": "27a0e45a-41b7-4592-bb79-048128cdccb4",
   "metadata": {},
   "source": [
    "En funksjon for å regne ut gjennomsnitt av to tall er ikke så lang. Vi kunne gjentatt den flere ganger, slik:"
   ]
  },
  {
   "cell_type": "code",
   "execution_count": 64,
   "id": "f0564846-e463-4d80-8262-d0f52318e23f",
   "metadata": {},
   "outputs": [
    {
     "name": "stdout",
     "output_type": "stream",
     "text": [
      "-1.0\n",
      "8.0\n",
      "3.5\n"
     ]
    }
   ],
   "source": [
    "a = (-5 + 3)/2\n",
    "print(a)\n",
    "b = (6 + 10)/2\n",
    "print(b)\n",
    "c = (a + b)/2\n",
    "print(c)"
   ]
  },
  {
   "cell_type": "markdown",
   "id": "0a0c92e5-8241-4467-834d-620a4856e6a5",
   "metadata": {},
   "source": [
    "Men hvis vi skal gjøre noe større blir det mye å repetere hvis vi skal gjøre det samme flere ganger. Og hva om vi vil endre på det? Da må vi endre alle steder vi bruker kodesnutten. Det er bedre å lage det som en funksjon, og bruke funksjonen. Hvis vi vil endre noe er det bare ett sted å endre det."
   ]
  },
  {
   "cell_type": "markdown",
   "id": "f21f0788-61e4-4361-934e-71e3a52c9c68",
   "metadata": {},
   "source": [
    "Funksjoner kan ha flere outputs hvis vi ønsker det. Her er et eksempel på hvordan man gir inputs og tar i mot outputs. Legg merke til at navnene utenfor funksjonen og inni funksjonen kan være helt forskjellige."
   ]
  },
  {
   "cell_type": "code",
   "execution_count": 66,
   "id": "4f291705-4fba-443e-bd3f-6c16fb521b9a",
   "metadata": {},
   "outputs": [
    {
     "name": "stdout",
     "output_type": "stream",
     "text": [
      "6\n",
      "2.0\n"
     ]
    }
   ],
   "source": [
    "def litenfunksjon(tall1, tall2, tall3):\n",
    "    summen = tall1 + tall2 + tall3\n",
    "    gjennomsnittet = (tall1 + tall2 + tall3)/3\n",
    "    return summen, gjennomsnittet\n",
    "    \n",
    "x = 1\n",
    "y = 2\n",
    "z = 3\n",
    "\n",
    "a, b = litenfunksjon(x, y, z)\n",
    "print(a)\n",
    "print(b)"
   ]
  },
  {
   "cell_type": "markdown",
   "id": "3f0d16b4-9365-4a4e-88d1-7d251fe71ed5",
   "metadata": {},
   "source": [
    "#### Oppgave funksjoner\n",
    "Lag en funksjon som tar in to inputs. Begge inputs skal være tall. Funksjonens navn skal være minfunksjon.\n",
    "\n",
    "Skriv funksjonen i cellen under. Når du har skrevet funksjonen, kjør cellen under for å teste funksjonen din. Forventet output er:\n",
    "\n",
    "```\n",
    "3\n",
    "deg\n",
    "```"
   ]
  },
  {
   "cell_type": "code",
   "execution_count": 67,
   "id": "cd186944-9529-46ec-b1e3-5f3759a3a217",
   "metadata": {},
   "outputs": [],
   "source": [
    "# her kan du definere funksjonen.\n",
    "def minfunksjon(a, b):\n",
    "    if a < b:\n",
    "        tallsvar = a + b\n",
    "        tekst = \"Hei\"\n",
    "    elif a == b:\n",
    "        tallsvar = a\n",
    "        tekst = \"på\"\n",
    "    else:\n",
    "        tallsvar = a - b\n",
    "        tekst = \"deg\"\n",
    "    return (tallsvar, tekst)"
   ]
  },
  {
   "cell_type": "code",
   "execution_count": 68,
   "id": "ba4c9a16-1ea4-42cf-bbe7-7bff19b8d315",
   "metadata": {},
   "outputs": [
    {
     "name": "stdout",
     "output_type": "stream",
     "text": [
      "3\n",
      "deg\n"
     ]
    }
   ],
   "source": [
    "# Kjør denne cellen når du har definert funksjonen.\n",
    "\n",
    "x = 7\n",
    "y = 4\n",
    "\n",
    "eple, pære = minfunksjon(x, y)\n",
    "print(eple)\n",
    "print(pære)"
   ]
  },
  {
   "cell_type": "markdown",
   "id": "868a80ae-6bbb-4abf-87e7-b00ee16057be",
   "metadata": {},
   "source": [
    "# Matematikk\n",
    "Python kan gjøre masse matematikk for oss. Først og fremst numerisk matematikk, men det er også mulig å gjøre symbolsk matematikk. For å bruke matematiske funksjoner må vi først be Python gjøre dem tilgjengelige for oss ved å skrive \"import math\". For å få hjelp kan vi skrive help(math) etterpå."
   ]
  },
  {
   "cell_type": "code",
   "execution_count": 69,
   "id": "d3426cd1-10e1-449e-9189-84ac84c1dce7",
   "metadata": {
    "scrolled": true
   },
   "outputs": [
    {
     "name": "stdout",
     "output_type": "stream",
     "text": [
      "Help on module math:\n",
      "\n",
      "NAME\n",
      "    math\n",
      "\n",
      "MODULE REFERENCE\n",
      "    https://docs.python.org/3.10/library/math.html\n",
      "    \n",
      "    The following documentation is automatically generated from the Python\n",
      "    source files.  It may be incomplete, incorrect or include features that\n",
      "    are considered implementation detail and may vary between Python\n",
      "    implementations.  When in doubt, consult the module reference at the\n",
      "    location listed above.\n",
      "\n",
      "DESCRIPTION\n",
      "    This module provides access to the mathematical functions\n",
      "    defined by the C standard.\n",
      "\n",
      "FUNCTIONS\n",
      "    acos(x, /)\n",
      "        Return the arc cosine (measured in radians) of x.\n",
      "        \n",
      "        The result is between 0 and pi.\n",
      "    \n",
      "    acosh(x, /)\n",
      "        Return the inverse hyperbolic cosine of x.\n",
      "    \n",
      "    asin(x, /)\n",
      "        Return the arc sine (measured in radians) of x.\n",
      "        \n",
      "        The result is between -pi/2 and pi/2.\n",
      "    \n",
      "    asinh(x, /)\n",
      "        Return the inverse hyperbolic sine of x.\n",
      "    \n",
      "    atan(x, /)\n",
      "        Return the arc tangent (measured in radians) of x.\n",
      "        \n",
      "        The result is between -pi/2 and pi/2.\n",
      "    \n",
      "    atan2(y, x, /)\n",
      "        Return the arc tangent (measured in radians) of y/x.\n",
      "        \n",
      "        Unlike atan(y/x), the signs of both x and y are considered.\n",
      "    \n",
      "    atanh(x, /)\n",
      "        Return the inverse hyperbolic tangent of x.\n",
      "    \n",
      "    ceil(x, /)\n",
      "        Return the ceiling of x as an Integral.\n",
      "        \n",
      "        This is the smallest integer >= x.\n",
      "    \n",
      "    comb(n, k, /)\n",
      "        Number of ways to choose k items from n items without repetition and without order.\n",
      "        \n",
      "        Evaluates to n! / (k! * (n - k)!) when k <= n and evaluates\n",
      "        to zero when k > n.\n",
      "        \n",
      "        Also called the binomial coefficient because it is equivalent\n",
      "        to the coefficient of k-th term in polynomial expansion of the\n",
      "        expression (1 + x)**n.\n",
      "        \n",
      "        Raises TypeError if either of the arguments are not integers.\n",
      "        Raises ValueError if either of the arguments are negative.\n",
      "    \n",
      "    copysign(x, y, /)\n",
      "        Return a float with the magnitude (absolute value) of x but the sign of y.\n",
      "        \n",
      "        On platforms that support signed zeros, copysign(1.0, -0.0)\n",
      "        returns -1.0.\n",
      "    \n",
      "    cos(x, /)\n",
      "        Return the cosine of x (measured in radians).\n",
      "    \n",
      "    cosh(x, /)\n",
      "        Return the hyperbolic cosine of x.\n",
      "    \n",
      "    degrees(x, /)\n",
      "        Convert angle x from radians to degrees.\n",
      "    \n",
      "    dist(p, q, /)\n",
      "        Return the Euclidean distance between two points p and q.\n",
      "        \n",
      "        The points should be specified as sequences (or iterables) of\n",
      "        coordinates.  Both inputs must have the same dimension.\n",
      "        \n",
      "        Roughly equivalent to:\n",
      "            sqrt(sum((px - qx) ** 2.0 for px, qx in zip(p, q)))\n",
      "    \n",
      "    erf(x, /)\n",
      "        Error function at x.\n",
      "    \n",
      "    erfc(x, /)\n",
      "        Complementary error function at x.\n",
      "    \n",
      "    exp(x, /)\n",
      "        Return e raised to the power of x.\n",
      "    \n",
      "    expm1(x, /)\n",
      "        Return exp(x)-1.\n",
      "        \n",
      "        This function avoids the loss of precision involved in the direct evaluation of exp(x)-1 for small x.\n",
      "    \n",
      "    fabs(x, /)\n",
      "        Return the absolute value of the float x.\n",
      "    \n",
      "    factorial(x, /)\n",
      "        Find x!.\n",
      "        \n",
      "        Raise a ValueError if x is negative or non-integral.\n",
      "    \n",
      "    floor(x, /)\n",
      "        Return the floor of x as an Integral.\n",
      "        \n",
      "        This is the largest integer <= x.\n",
      "    \n",
      "    fmod(x, y, /)\n",
      "        Return fmod(x, y), according to platform C.\n",
      "        \n",
      "        x % y may differ.\n",
      "    \n",
      "    frexp(x, /)\n",
      "        Return the mantissa and exponent of x, as pair (m, e).\n",
      "        \n",
      "        m is a float and e is an int, such that x = m * 2.**e.\n",
      "        If x is 0, m and e are both 0.  Else 0.5 <= abs(m) < 1.0.\n",
      "    \n",
      "    fsum(seq, /)\n",
      "        Return an accurate floating point sum of values in the iterable seq.\n",
      "        \n",
      "        Assumes IEEE-754 floating point arithmetic.\n",
      "    \n",
      "    gamma(x, /)\n",
      "        Gamma function at x.\n",
      "    \n",
      "    gcd(*integers)\n",
      "        Greatest Common Divisor.\n",
      "    \n",
      "    hypot(...)\n",
      "        hypot(*coordinates) -> value\n",
      "        \n",
      "        Multidimensional Euclidean distance from the origin to a point.\n",
      "        \n",
      "        Roughly equivalent to:\n",
      "            sqrt(sum(x**2 for x in coordinates))\n",
      "        \n",
      "        For a two dimensional point (x, y), gives the hypotenuse\n",
      "        using the Pythagorean theorem:  sqrt(x*x + y*y).\n",
      "        \n",
      "        For example, the hypotenuse of a 3/4/5 right triangle is:\n",
      "        \n",
      "            >>> hypot(3.0, 4.0)\n",
      "            5.0\n",
      "    \n",
      "    isclose(a, b, *, rel_tol=1e-09, abs_tol=0.0)\n",
      "        Determine whether two floating point numbers are close in value.\n",
      "        \n",
      "          rel_tol\n",
      "            maximum difference for being considered \"close\", relative to the\n",
      "            magnitude of the input values\n",
      "          abs_tol\n",
      "            maximum difference for being considered \"close\", regardless of the\n",
      "            magnitude of the input values\n",
      "        \n",
      "        Return True if a is close in value to b, and False otherwise.\n",
      "        \n",
      "        For the values to be considered close, the difference between them\n",
      "        must be smaller than at least one of the tolerances.\n",
      "        \n",
      "        -inf, inf and NaN behave similarly to the IEEE 754 Standard.  That\n",
      "        is, NaN is not close to anything, even itself.  inf and -inf are\n",
      "        only close to themselves.\n",
      "    \n",
      "    isfinite(x, /)\n",
      "        Return True if x is neither an infinity nor a NaN, and False otherwise.\n",
      "    \n",
      "    isinf(x, /)\n",
      "        Return True if x is a positive or negative infinity, and False otherwise.\n",
      "    \n",
      "    isnan(x, /)\n",
      "        Return True if x is a NaN (not a number), and False otherwise.\n",
      "    \n",
      "    isqrt(n, /)\n",
      "        Return the integer part of the square root of the input.\n",
      "    \n",
      "    lcm(*integers)\n",
      "        Least Common Multiple.\n",
      "    \n",
      "    ldexp(x, i, /)\n",
      "        Return x * (2**i).\n",
      "        \n",
      "        This is essentially the inverse of frexp().\n",
      "    \n",
      "    lgamma(x, /)\n",
      "        Natural logarithm of absolute value of Gamma function at x.\n",
      "    \n",
      "    log(...)\n",
      "        log(x, [base=math.e])\n",
      "        Return the logarithm of x to the given base.\n",
      "        \n",
      "        If the base not specified, returns the natural logarithm (base e) of x.\n",
      "    \n",
      "    log10(x, /)\n",
      "        Return the base 10 logarithm of x.\n",
      "    \n",
      "    log1p(x, /)\n",
      "        Return the natural logarithm of 1+x (base e).\n",
      "        \n",
      "        The result is computed in a way which is accurate for x near zero.\n",
      "    \n",
      "    log2(x, /)\n",
      "        Return the base 2 logarithm of x.\n",
      "    \n",
      "    modf(x, /)\n",
      "        Return the fractional and integer parts of x.\n",
      "        \n",
      "        Both results carry the sign of x and are floats.\n",
      "    \n",
      "    nextafter(x, y, /)\n",
      "        Return the next floating-point value after x towards y.\n",
      "    \n",
      "    perm(n, k=None, /)\n",
      "        Number of ways to choose k items from n items without repetition and with order.\n",
      "        \n",
      "        Evaluates to n! / (n - k)! when k <= n and evaluates\n",
      "        to zero when k > n.\n",
      "        \n",
      "        If k is not specified or is None, then k defaults to n\n",
      "        and the function returns n!.\n",
      "        \n",
      "        Raises TypeError if either of the arguments are not integers.\n",
      "        Raises ValueError if either of the arguments are negative.\n",
      "    \n",
      "    pow(x, y, /)\n",
      "        Return x**y (x to the power of y).\n",
      "    \n",
      "    prod(iterable, /, *, start=1)\n",
      "        Calculate the product of all the elements in the input iterable.\n",
      "        \n",
      "        The default start value for the product is 1.\n",
      "        \n",
      "        When the iterable is empty, return the start value.  This function is\n",
      "        intended specifically for use with numeric values and may reject\n",
      "        non-numeric types.\n",
      "    \n",
      "    radians(x, /)\n",
      "        Convert angle x from degrees to radians.\n",
      "    \n",
      "    remainder(x, y, /)\n",
      "        Difference between x and the closest integer multiple of y.\n",
      "        \n",
      "        Return x - n*y where n*y is the closest integer multiple of y.\n",
      "        In the case where x is exactly halfway between two multiples of\n",
      "        y, the nearest even value of n is used. The result is always exact.\n",
      "    \n",
      "    sin(x, /)\n",
      "        Return the sine of x (measured in radians).\n",
      "    \n",
      "    sinh(x, /)\n",
      "        Return the hyperbolic sine of x.\n",
      "    \n",
      "    sqrt(x, /)\n",
      "        Return the square root of x.\n",
      "    \n",
      "    tan(x, /)\n",
      "        Return the tangent of x (measured in radians).\n",
      "    \n",
      "    tanh(x, /)\n",
      "        Return the hyperbolic tangent of x.\n",
      "    \n",
      "    trunc(x, /)\n",
      "        Truncates the Real x to the nearest Integral toward 0.\n",
      "        \n",
      "        Uses the __trunc__ magic method.\n",
      "    \n",
      "    ulp(x, /)\n",
      "        Return the value of the least significant bit of the float x.\n",
      "\n",
      "DATA\n",
      "    e = 2.718281828459045\n",
      "    inf = inf\n",
      "    nan = nan\n",
      "    pi = 3.141592653589793\n",
      "    tau = 6.283185307179586\n",
      "\n",
      "FILE\n",
      "    /srv/conda/envs/notebook/lib/python3.10/lib-dynload/math.cpython-310-x86_64-linux-gnu.so\n",
      "\n",
      "\n"
     ]
    }
   ],
   "source": [
    "import math\n",
    "help(math)"
   ]
  },
  {
   "cell_type": "code",
   "execution_count": 70,
   "id": "489ff012-4530-43a1-be6e-63d9e21629f0",
   "metadata": {},
   "outputs": [
    {
     "name": "stdout",
     "output_type": "stream",
     "text": [
      "2.718281828459045\n",
      "3.141592653589793\n",
      "1.7320508075688774 0.9999999999999999\n"
     ]
    }
   ],
   "source": [
    "e = math.e\n",
    "print(e)\n",
    "\n",
    "pi = math.pi\n",
    "print(pi)\n",
    "\n",
    "# for en rettvinklet trekant med vinkler 30, 60 og 90 grader og hypotenus på 2 kan vi finne katene slik:\n",
    "katet1 = 2*math.cos(pi/6)\n",
    "katet2 = 2*math.sin(pi/6)\n",
    "\n",
    "print(katet1, katet2)"
   ]
  },
  {
   "cell_type": "markdown",
   "id": "2debbe92-7c54-4ad6-aa6c-dcfa80a62628",
   "metadata": {},
   "source": [
    "#### Oppgave 1 matematikk\n",
    "Lag en funksjon som tar i mot en vinkel, dobler den, beregner cosinus av vinkelen og så returnerer resultatet. Inputvinkelen skal gis i grader. Funksjonen skal hete \"cosAvDobbelVinkel\"\n",
    "\n",
    "Hint: Den innebygde cos-funksjonen krever at vinkelen er gitt i radianer. Les i help(math) og se om du kan finne noe som hjelper deg med å håndtere dette.\n",
    "\n",
    "Du skal inkludere \"import math\" inni funksjonen, slik at den virker selv om vi ikke har kjørt \"import math\" utenfor funksjonen.\n",
    "\n",
    "Forventet resultat er matematisk sett -0.5, men du får nok noe sånt som -0.4999999999999998."
   ]
  },
  {
   "cell_type": "code",
   "execution_count": 71,
   "id": "4b8c181f-f10b-4d74-8250-ddd6ee6156f1",
   "metadata": {},
   "outputs": [],
   "source": [
    "def cosAvDobbelVinkel(vinkel):\n",
    "    import math\n",
    "    return math.cos(2*math.radians(vinkel))"
   ]
  },
  {
   "cell_type": "code",
   "execution_count": 72,
   "id": "f8055b60-8944-4e5e-8f52-75a67355a9f0",
   "metadata": {},
   "outputs": [
    {
     "name": "stdout",
     "output_type": "stream",
     "text": [
      "-0.4999999999999998\n"
     ]
    }
   ],
   "source": [
    "resultat = cosAvDobbelVinkel(60)\n",
    "print(resultat)"
   ]
  },
  {
   "cell_type": "markdown",
   "id": "899a4676-54ce-492d-8ca2-0b165220e41e",
   "metadata": {},
   "source": [
    "## Feil i desimaltall\n",
    "Hvorfor får vi resultater som -0.4999999999999998? Vi vet jo at cos(60) er nøyaktig lik 0.5. Dette er en grunnleggende sannhet vi må akseptere når vi bruker datamaskiner til å behandle tall. Når enkelte tall i titallssystemet skal fremstilles binært blir det et avvik. Det er ofte ikke noe stort problem. Man kan avrunde tall, eller man kan se på det og skjønne hva det egentlig skulle vært. Men i noen sammenhenger er dette veldig viktig."
   ]
  },
  {
   "cell_type": "code",
   "execution_count": 73,
   "id": "63d2f7d7-65e0-4d90-ba97-874dae32092e",
   "metadata": {},
   "outputs": [
    {
     "name": "stdout",
     "output_type": "stream",
     "text": [
      "Cosinus til en vinkel på 60 grader skal være 0.5, så hvorfor kommer vi hit?\n"
     ]
    }
   ],
   "source": [
    "import math\n",
    "c = math.cos(math.radians(60))\n",
    "if c == 0.5:\n",
    "    print(\"Cosinus til en vinkel på 60 grader er 0.5.\")\n",
    "else:\n",
    "    print(\"Cosinus til en vinkel på 60 grader skal være 0.5, så hvorfor kommer vi hit?\")"
   ]
  },
  {
   "cell_type": "code",
   "execution_count": 76,
   "id": "75c41e6b-c2aa-442b-b6ea-a2c368f4e4a9",
   "metadata": {},
   "outputs": [
    {
     "name": "stdout",
     "output_type": "stream",
     "text": [
      "0.5000000000000001\n"
     ]
    }
   ],
   "source": [
    "import math\n",
    "print(math.cos(math.radians(60)))"
   ]
  },
  {
   "cell_type": "markdown",
   "id": "b924a9be-a927-4daf-990e-b16521db8d65",
   "metadata": {},
   "source": [
    "Vi ser nå at det er en unøyaktighet i desimaltallet. Dette kan vi håndtere ved å avrunde tallet med round-funksjonen."
   ]
  },
  {
   "cell_type": "code",
   "execution_count": 74,
   "id": "9116d8fc-fa4a-46a8-8504-8963b65e1d43",
   "metadata": {},
   "outputs": [
    {
     "name": "stdout",
     "output_type": "stream",
     "text": [
      "0.5\n",
      "Cosinus til en vinkel på 60 grader er 0.5.\n"
     ]
    }
   ],
   "source": [
    "import math\n",
    "c = round(math.cos(math.radians(60)), 5) #avrunder ved 5. desimal.\n",
    "print(c)\n",
    "if c == 0.5:\n",
    "    print(\"Cosinus til en vinkel på 60 grader er 0.5.\")\n",
    "else:\n",
    "    print(\"Cosinus til en vinkel på 60 grader skal være 0.5, så hvorfor kommer vi hit?\")"
   ]
  },
  {
   "cell_type": "code",
   "execution_count": 81,
   "id": "ad865d86-ebe1-4a30-a25e-5a54fb73f54f",
   "metadata": {},
   "outputs": [
    {
     "name": "stdout",
     "output_type": "stream",
     "text": [
      "2.3333333333333335\n",
      "0.09000000000000341\n",
      "0.08999999999999986\n",
      "1000.0000000001588\n"
     ]
    }
   ],
   "source": [
    "# Tilsvarende feil kan også skje ved enkle tall.\n",
    "\n",
    "print(7/3) # Dette skal bli 2.333333333333. Hvorfor er det 5 bakerst?\n",
    "\n",
    "print(100.29 - 100.2) # Dette skal bli 0.09 nøyaktig.\n",
    "print(10.29 - 10.2) # Dette skal også bli 0.09 nøyaktig, men blir ikke engang det samme som tallet på linjen over.\n",
    "\n",
    "# Denne forløkken tar 0.1 + 0.1 + 0.1 + ... 10 000 ganger, altså egentlig bare 0.1 * 10000, som skal bli 1000.\n",
    "a = 0\n",
    "for i in range(10000):\n",
    "    a += 0.1\n",
    "print(a)"
   ]
  },
  {
   "cell_type": "markdown",
   "id": "3751b6ee-cbf7-4440-9d8d-c6827be5503f",
   "metadata": {},
   "source": [
    "Det er altså av og til nødvendig å håndtere at tall i programmeringen ikke er helt nøyaktige. Det viktigste nå er å være klar over det slik at du kan håndtere det når du kommer i en slik situasjon. En håndtering er å bruke round-funksjonen som vist i cosinus-eksemplet over."
   ]
  },
  {
   "cell_type": "markdown",
   "id": "0e8321a8-9f94-4475-bf7a-23bc07447863",
   "metadata": {},
   "source": [
    "## Divisjon (deling) i Python\n",
    "Vi har tre måter å dele tall på hverandre i Python. De gjør ulike ting, og har sine bruksområder. Du kan tenke på følgende eksempler:\n",
    "\n",
    "Jeg skal dele 13 mynter til 3 barn. (Jeg kan ikke dele ut desimaltall av en mynt)\n",
    "* Hvor mange mynter blir det til hvert barn?\n",
    "* Hvor mange mynter blir det til overs?\n",
    "* Hvor mange mynter kunne de fått dersom jeg kunne delt ut desimaltall?\n",
    "\n",
    "Se på resultatene i neste celle og finn ut hvilket deletegn som gjør hva. Test din antagelse av hva deletegnene gjør ved å endre tallene og se om det følger mønsteret du har funnet."
   ]
  },
  {
   "cell_type": "code",
   "execution_count": 82,
   "id": "87d0369a-5d2b-4172-9fd1-b679431486f6",
   "metadata": {},
   "outputs": [
    {
     "name": "stdout",
     "output_type": "stream",
     "text": [
      "4.333333333333333\n",
      "4\n",
      "1\n"
     ]
    }
   ],
   "source": [
    "print(13/3)\n",
    "print(13//3)\n",
    "print(13%3)"
   ]
  },
  {
   "cell_type": "markdown",
   "id": "93fc11df-3101-4834-8c32-1e4206f6408c",
   "metadata": {},
   "source": [
    "## Generere tabell med funksjonsverdier og plotte\n",
    "Vi kan lage tabeller med x-verdier og y-verdier for en funksjon og plotte disse, f.eks. ved å bruke en løkke. En måte å lagre tabellen er som to lister, en med x-verdier og en med y-verdier. Her ser vi først på en grunnleggende måte å gjøre det, men det finnes bedre alternativ."
   ]
  },
  {
   "cell_type": "code",
   "execution_count": 83,
   "id": "b82e30aa-4f6f-413d-88a9-4d07b28ddf2b",
   "metadata": {},
   "outputs": [
    {
     "name": "stdout",
     "output_type": "stream",
     "text": [
      "[-5, -4, -3, -2, -1, 0, 1, 2, 3, 4, 5]\n",
      "[25, 16, 9, 4, 1, 0, 1, 4, 9, 16, 25]\n"
     ]
    }
   ],
   "source": [
    "x = []\n",
    "y = []\n",
    "for i in range(-5, 6):\n",
    "    x.append(i)\n",
    "    y.append(i**2)\n",
    "print(x)\n",
    "print(y)"
   ]
  },
  {
   "cell_type": "markdown",
   "id": "37cffe8e-de1f-4d0a-8643-f6c7975f89cc",
   "metadata": {},
   "source": [
    "For å plotte grafen bruker vi matplotlib. Det er en ekstremt sterk samling av verktøy for å tegne grafer. Det finnes utrolig mye innebygd som vi kan bruke. Mer om dette nedenfor."
   ]
  },
  {
   "cell_type": "code",
   "execution_count": 84,
   "id": "094e36cd-1f66-41b8-91a2-f057917f58a9",
   "metadata": {},
   "outputs": [
    {
     "data": {
      "image/png": "[encoded data removed]",
      "text/plain": [
       "<Figure size 640x480 with 1 Axes>"
      ]
     },
     "metadata": {},
     "output_type": "display_data"
    }
   ],
   "source": [
    "import matplotlib.pyplot as plt\n",
    "plt.figure()\n",
    "plt.plot(x, y)\n",
    "plt.show()"
   ]
  },
  {
   "cell_type": "markdown",
   "id": "7e232fed-4f57-4460-8b1c-7ec8b3422d2b",
   "metadata": {},
   "source": [
    "Vi ser at er litt kantete. For å forbedre dette kan vi lage tabeller med flere punkter. Vi kan gjøre det med for-løkke som illustrert over, men det finnes verktøy som gjør det bedre. I tillegg til \"import math\" og \"import matplotlib\" kan vi også bruke \"import numpy\". numpy er en pakke som har mange nyttige verktøy for å jobbe med numerikk i Python."
   ]
  },
  {
   "cell_type": "code",
   "execution_count": 85,
   "id": "10200b3b-4e88-441f-8a7b-05bb2d23c470",
   "metadata": {},
   "outputs": [
    {
     "name": "stdout",
     "output_type": "stream",
     "text": [
      "[0.   0.01 0.02 0.03 0.04 0.05 0.06 0.07 0.08 0.09 0.1  0.11 0.12 0.13\n",
      " 0.14 0.15 0.16 0.17 0.18 0.19 0.2  0.21 0.22 0.23 0.24 0.25 0.26 0.27\n",
      " 0.28 0.29 0.3  0.31 0.32 0.33 0.34 0.35 0.36 0.37 0.38 0.39 0.4  0.41\n",
      " 0.42 0.43 0.44 0.45 0.46 0.47 0.48 0.49 0.5  0.51 0.52 0.53 0.54 0.55\n",
      " 0.56 0.57 0.58 0.59 0.6  0.61 0.62 0.63 0.64 0.65 0.66 0.67 0.68 0.69\n",
      " 0.7  0.71 0.72 0.73 0.74 0.75 0.76 0.77 0.78 0.79 0.8  0.81 0.82 0.83\n",
      " 0.84 0.85 0.86 0.87 0.88 0.89 0.9  0.91 0.92 0.93 0.94 0.95 0.96 0.97\n",
      " 0.98 0.99 1.  ]\n"
     ]
    }
   ],
   "source": [
    "import numpy as np\n",
    "x = np.linspace(0, 1, 101) # start, stopp, antall\n",
    "print(x)"
   ]
  },
  {
   "cell_type": "code",
   "execution_count": 86,
   "id": "54db952d-97d8-4193-874e-970920226556",
   "metadata": {},
   "outputs": [
    {
     "data": {
      "image/png": "[encoded data removed]",
      "text/plain": [
       "<Figure size 640x480 with 1 Axes>"
      ]
     },
     "metadata": {},
     "output_type": "display_data"
    }
   ],
   "source": [
    "import numpy as np\n",
    "import matplotlib.pyplot as plt\n",
    "\n",
    "x = np.linspace(-5, 5, 101) # start, stopp, antall\n",
    "y = x**2 # Når x er et numpy-objekt kan vi ta hele\n",
    "         # vektoren kvadrert og får ett og ett element kvadrert.\n",
    "         # Numpy skjønner at vi trolig ønsker å kvadrere ett og ett element.\n",
    "         # Dersom det faktisk er prikk-produktet mellom vektorene du ønsker\n",
    "        # finnes det en egen funksjon for det.\n",
    "plt.figure()\n",
    "plt.plot(x, y)\n",
    "plt.show()"
   ]
  },
  {
   "cell_type": "markdown",
   "id": "6d122667-d9c6-42f0-8604-ffe110fad7de",
   "metadata": {},
   "source": [
    "Denne grafen er mye glattere enn den forrige.\n",
    "\n",
    "Under ser vi et annet eksempel på bruk av numpy og matplotlib. Vi ser at numpy inneholder pi, vi lager en liste med 1001 x-verdier mellom -2pi og +2pi, og beregner sinusverdien til hver x-verdi. Deretter plotter vi grafen, og legger på et rutenett (grid). Denne gangen plottet vi grafen med rød linje."
   ]
  },
  {
   "cell_type": "code",
   "execution_count": 87,
   "id": "f7e06350-9735-481f-ab9c-c99d40bf334e",
   "metadata": {},
   "outputs": [
    {
     "data": {
      "image/png": "[encoded data removed]",
      "text/plain": [
       "<Figure size 640x480 with 1 Axes>"
      ]
     },
     "metadata": {},
     "output_type": "display_data"
    }
   ],
   "source": [
    "import numpy as np\n",
    "import matplotlib.pyplot as plt\n",
    "\n",
    "x = np.linspace(-2*np.pi, 2*np.pi, 1001) # start, stopp, antall\n",
    "y = np.sin(x)\n",
    "plt.figure()\n",
    "plt.plot(x, y, \"r\")\n",
    "plt.grid()\n",
    "plt.show()"
   ]
  },
  {
   "cell_type": "markdown",
   "id": "1c8ac9d0-8777-464b-ac70-d1c3ac3f8d74",
   "metadata": {},
   "source": [
    "#### Oppgave 2 matematikk\n",
    "Lag en funksjon som tar i mot en eller flere inputs, bruker numpy og matplotlib til å tegne en graf. Du kan selv velge hva inputs skal brukes til. Kanskje definisjonsmengden? Kanskje antall punkter vi genererer? Kanskje fargen til grafen?"
   ]
  },
  {
   "cell_type": "code",
   "execution_count": 4,
   "id": "a6493ae5-49ea-4985-bca2-dde4bef214bf",
   "metadata": {},
   "outputs": [],
   "source": [
    "# Her er et eksempel på en funksjon som plotter en graf.\n",
    "\n",
    "def plotFunksjonenMin(a, b, n = 1001, farge = 'g'):\n",
    "    import numpy as np\n",
    "    import matplotlib.pyplot as plt\n",
    "    \n",
    "    x = np.linspace(-a*np.pi, b*np.pi, n) # start, stopp, antall\n",
    "    y = np.sin(x)*np.exp(x)\n",
    "    plt.figure()\n",
    "    plt.plot(x, y, farge)\n",
    "    plt.grid()\n",
    "    plt.show()"
   ]
  },
  {
   "cell_type": "code",
   "execution_count": 6,
   "id": "de3c4553-2be3-47da-af58-fd391b7bd183",
   "metadata": {},
   "outputs": [
    {
     "data": {
      "image/png": "[encoded data removed]",
      "text/plain": [
       "<Figure size 640x480 with 1 Axes>"
      ]
     },
     "metadata": {},
     "output_type": "display_data"
    }
   ],
   "source": [
    "plotFunksjonenMin(0, 2)"
   ]
  },
  {
   "cell_type": "markdown",
   "id": "2fc64817-0ea6-4f1e-a087-d46153c9f811",
   "metadata": {},
   "source": [
    "## Vakre figurer og plots\n",
    "Når vi ikke vet hvordan vi kan lage fine plots og hvilke kommandoer som finnes kan vi bruke andres eksempler og modifisere dem for å passe til våre data. Vi bruker matplotlibs galleri med eksempler:\n",
    "https://matplotlib.org/3.9.1/gallery/index.html\n",
    "\n",
    "Man kan også lese tutorialen:\n",
    "https://matplotlib.org/3.9.1/tutorials/index.html\n",
    "\n",
    "Eller FAQen:\n",
    "https://matplotlib.org/3.9.1/users/faq.html\n",
    "\n",
    "Flere ressurser her:\n",
    "https://matplotlib.org/cheatsheets/"
   ]
  },
  {
   "cell_type": "code",
   "execution_count": 7,
   "id": "c8c5dce3-ee92-4d7a-88f6-665a40094eb2",
   "metadata": {},
   "outputs": [
    {
     "data": {
      "image/png": "[encoded data removed]",
      "text/plain": [
       "<Figure size 640x480 with 1 Axes>"
      ]
     },
     "metadata": {},
     "output_type": "display_data"
    }
   ],
   "source": [
    "# data from https://allisonhorst.github.io/palmerpenguins/\n",
    "\n",
    "import matplotlib.pyplot as plt\n",
    "import numpy as np\n",
    "\n",
    "species = (\"Adelie\", \"Chinstrap\", \"Gentoo\")\n",
    "penguin_means = {\n",
    "    'Bill Depth': (18.35, 18.43, 14.98),\n",
    "    'Bill Length': (38.79, 48.83, 47.50),\n",
    "    'Flipper Length': (189.95, 195.82, 217.19),\n",
    "}\n",
    "\n",
    "x = np.arange(len(species))  # the label locations\n",
    "width = 0.25  # the width of the bars\n",
    "multiplier = 0\n",
    "\n",
    "fig, ax = plt.subplots(layout='constrained')\n",
    "\n",
    "for attribute, measurement in penguin_means.items():\n",
    "    offset = width * multiplier\n",
    "    rects = ax.bar(x + offset, measurement, width, label=attribute)\n",
    "    ax.bar_label(rects, padding=3)\n",
    "    multiplier += 1\n",
    "\n",
    "# Add some text for labels, title and custom x-axis tick labels, etc.\n",
    "ax.set_ylabel('Length (mm)')\n",
    "ax.set_title('Penguin attributes by species')\n",
    "ax.set_xticks(x + width, species)\n",
    "ax.legend(loc='upper left', ncols=3)\n",
    "ax.set_ylim(0, 250)\n",
    "\n",
    "plt.show()"
   ]
  },
  {
   "cell_type": "code",
   "execution_count": 8,
   "id": "3afec8b7-01e3-4494-be57-91993ff754f6",
   "metadata": {},
   "outputs": [
    {
     "data": {
      "image/png": "[encoded data removed]",
      "text/plain": [
       "<Figure size 960x480 with 3 Axes>"
      ]
     },
     "metadata": {},
     "output_type": "display_data"
    }
   ],
   "source": [
    "import matplotlib.pyplot as plt\n",
    "import numpy as np\n",
    "\n",
    "from matplotlib import cm\n",
    "from mpl_toolkits.mplot3d.axes3d import get_test_data\n",
    "\n",
    "# set up a figure twice as wide as it is tall\n",
    "fig = plt.figure(figsize=plt.figaspect(0.5))\n",
    "\n",
    "# =============\n",
    "# First subplot\n",
    "# =============\n",
    "# set up the Axes for the first plot\n",
    "ax = fig.add_subplot(1, 2, 1, projection='3d')\n",
    "\n",
    "# plot a 3D surface like in the example mplot3d/surface3d_demo\n",
    "X = np.arange(-5, 5, 0.25)\n",
    "Y = np.arange(-5, 5, 0.25)\n",
    "X, Y = np.meshgrid(X, Y)\n",
    "R = np.sqrt(X**2 + Y**2)\n",
    "Z = np.sin(R)\n",
    "surf = ax.plot_surface(X, Y, Z, rstride=1, cstride=1, cmap=cm.coolwarm,\n",
    "                       linewidth=0, antialiased=False)\n",
    "ax.set_zlim(-1.01, 1.01)\n",
    "fig.colorbar(surf, shrink=0.5, aspect=10)\n",
    "\n",
    "# ==============\n",
    "# Second subplot\n",
    "# ==============\n",
    "# set up the Axes for the second plot\n",
    "ax = fig.add_subplot(1, 2, 2, projection='3d')\n",
    "\n",
    "# plot a 3D wireframe like in the example mplot3d/wire3d_demo\n",
    "X, Y, Z = get_test_data(0.05)\n",
    "ax.plot_wireframe(X, Y, Z, rstride=10, cstride=10)\n",
    "\n",
    "plt.show()"
   ]
  },
  {
   "cell_type": "markdown",
   "id": "7ed11b15-344a-4f98-80d7-2b950849d00b",
   "metadata": {},
   "source": [
    "## Kortpoeng\n",
    "Vi skal nå trekke kort fra en kortstokk og gi et visst antall poeng avhengig av de to reglene under. Vi skal huske poengene og legge sammen fra runde til runde og se hva totalen er. Vi begynner med null poeng.\n",
    "\n",
    "Hvis kortet er spar, legg til 2 poeng.\n",
    "Ellers, hvis kortet er hjerter, legg til 1 poeng.\n",
    "Ellers, trekk fra 1 poeng.\n",
    "\n",
    "Hvis kortet er et bildekort (J, Q, K), legg til 5 poeng.\n",
    "Ellers, legg til så mange poeng som tallet kortet representerer.\n",
    "\n",
    "H5\n",
    "SJ\n",
    "CK\n",
    "\n",
    "D4\n",
    "SQ\n",
    "H8\n",
    "\n",
    "\n",
    "\n",
    "###### Tegn flytskjema for dette\n",
    "Hva skjer med ess?\n",
    "\n",
    "Hva skjer med joker? Bridgereglene?\n",
    "\n",
    "Hva skjer hvis vi trekker kløver eller ruter som første kort?\n",
    "\n",
    "### Testcase 1\n",
    "H5: poeng = 6\n",
    "\n",
    "SJ: poeng = 13\n",
    "\n",
    "CK: poeng = 17\n",
    "\n",
    "### Testcase 2\n",
    "D4: poeng = 3\n",
    "\n",
    "SQ: poeng = 10\n",
    "\n",
    "H8: poeng = 19"
   ]
  },
  {
   "cell_type": "code",
   "execution_count": null,
   "id": "579d6eb5-a440-4803-87be-c2094c1b64c7",
   "metadata": {},
   "outputs": [],
   "source": [
    "poeng = 0\n",
    "\n",
    "def kortpoeng(kort):\n",
    "    \"\"\"\n",
    "    Kortene skal gis på formen 'HQ' for hjerter dame, 'C3' for kløver 3.\n",
    "    C-clubs-kløver\n",
    "    S-spades-spar\n",
    "    H-hearts-hjerter\n",
    "    D-diamonds-ruter\n",
    "    K-king-konge\n",
    "    Q-queen-dame\n",
    "    J-jack-knekt\n",
    "    \"\"\"\n",
    "    global poeng\n",
    "    \n",
    "    farge = kort[0]\n",
    "    verdi = kort[1:]\n",
    "    \n",
    "    if farge == 'S':\n",
    "        poeng += 2\n",
    "    elif farge == 'H':\n",
    "        poeng += 1\n",
    "    else:\n",
    "        poeng -= 1\n",
    "        \n",
    "    \n",
    "    if verdi == 'K' or verdi == 'Q' or verdi == 'J':\n",
    "        poeng += 5\n",
    "    else:\n",
    "        poeng += int(verdi)\n",
    "    print('Du har nå',poeng,'poeng.')\n",
    "    # print('Du har nå '+str(poeng)+' poeng.')"
   ]
  },
  {
   "cell_type": "code",
   "execution_count": null,
   "id": "8af6cd3a-cd0b-467b-a223-4386ced9cbc5",
   "metadata": {},
   "outputs": [],
   "source": [
    "poeng = 0\n",
    "kortpoeng('H5')\n",
    "kortpoeng('SJ')\n",
    "kortpoeng('CK')\n",
    "\n",
    "poeng = 0\n",
    "kortpoeng('D4')\n",
    "kortpoeng('SQ')\n",
    "kortpoeng('H8')"
   ]
  },
  {
   "cell_type": "markdown",
   "id": "6ce8f26e-da63-494d-aa5e-cf39841d28d6",
   "metadata": {},
   "source": [
    "### Oppgave kortpoeng\n",
    "#### a)\n",
    "Lag flytskjema for kortreglene som er definert nedenfor.\n",
    "\n",
    "Hvis kortet er kløver, legg til 1 poeng. Ellers, hvis kortet er spar, legg til 2 poeng. Ellers, hvis kortet er ruter, legg til 3 poeng. Ellers, trekk fra 1 poeng.\n",
    "\n",
    "Hvis kortet er ess eller 2, gang antall poeng med 2.\n",
    "\n",
    "Test:\n",
    "\n",
    "Starter på null poeng.\n",
    "\n",
    "Kløver ess: 2\n",
    "\n",
    "Ruter to: 10\n",
    "\n",
    "Spar fire: 12\n",
    "\n",
    "#### b)\n",
    "Fyll inn de linjene som mangler i koden nedenfor for å skape et program som gir poeng til ulike kort etter reglene over."
   ]
  },
  {
   "cell_type": "code",
   "execution_count": null,
   "id": "79040fdf-8e5d-49a8-a287-45e626a7f8b5",
   "metadata": {},
   "outputs": [],
   "source": [
    "poeng = 0\n",
    "\n",
    "def kortpoeng2(kort):\n",
    "    \"\"\"\n",
    "    Kortene skal gis på formen 'HQ' for hjerter dame, 'C3' for kløver 3.\n",
    "    C-clubs-kløver\n",
    "    S-spades-spar\n",
    "    H-hearts-hjerter\n",
    "    D-diamonds-ruter\n",
    "    A-ace-ess\n",
    "    K-king-konge\n",
    "    Q-queen-dame\n",
    "    J-jack-knekt\n",
    "    \"\"\"\n",
    "    global poeng\n",
    "    \n",
    "    farge = kort[0]\n",
    "    verdi = kort[1:]\n",
    "    \n",
    "    if farge == 'C':\n",
    "        poeng += 1\n",
    "    elif farge == 'S':\n",
    "        poeng += 2\n",
    "    elif farge == 'D':\n",
    "        poeng += 3\n",
    "    else:\n",
    "        poeng -= 1\n",
    "        \n",
    "    \n",
    "    if verdi == 'K' or verdi == 'Q' or verdi == 'J':\n",
    "        poeng += 5\n",
    "    else:\n",
    "        poeng += int(verdi)\n",
    "    \n",
    "    print('Du har nå',poeng,'poeng.')"
   ]
  },
  {
   "cell_type": "code",
   "execution_count": null,
   "id": "b9c85656-b53a-4e7a-9819-8102b34420a4",
   "metadata": {},
   "outputs": [],
   "source": [
    "poeng = 0\n",
    "kortpoeng2('CA')\n",
    "kortpoeng2('D2')\n",
    "kortpoeng2('S4')"
   ]
  },
  {
   "cell_type": "markdown",
   "id": "be8fc910-5729-4510-a573-0ca5caf4d55e",
   "metadata": {},
   "source": [
    "# Pengedeling\n",
    "\n",
    "## Lønn for husarbeid\n",
    "3 barn, 50 kr/time, 2 timer. Lønnen skal fordeles fra en haug med kronestykker, en mynt til hvert barn om gangen.\n",
    "\n",
    "## Flaskepant\n",
    "Pengehaug, ukjent antall kronestykker. Ingen barn skal få mer enn noen av de andre.\n",
    "\n",
    "## Løkker\n",
    "Hvis vi vet hvor mange ganger noe skal gjøres bruker vi en for-løkke (for-loop). Hvis vi ikke vet hvor mange ganger noe skal gjøres, men vet når vi er ferdige, bruker vi en while-løkke (while-loop)."
   ]
  },
  {
   "cell_type": "code",
   "execution_count": null,
   "id": "d75cac19-2848-4e3f-aa68-315775458538",
   "metadata": {},
   "outputs": [],
   "source": [
    "def pengedeling1(timelønn, timetall):\n",
    "    barn1 = 0\n",
    "    barn2 = 0\n",
    "    barn3 = 0\n",
    "    antallrunder = timelønn * timetall\n",
    "    pengehaug = timelønn * timetall * 3\n",
    "    for i in range(0, antallrunder):\n",
    "        pengehaug -= 3\n",
    "        barn1 += 1\n",
    "        barn2 += 1\n",
    "        barn3 += 1\n",
    "    print('Nå er fordelingen ferdig. Det ble',pengehaug,'krone(r) igjen. Hvert barn fikk',barn1,'krone(r).')"
   ]
  },
  {
   "cell_type": "code",
   "execution_count": null,
   "id": "7fa98a94-9203-4a66-aa28-cb49076bedc9",
   "metadata": {},
   "outputs": [],
   "source": [
    "pengedeling1(50, 3)"
   ]
  },
  {
   "cell_type": "code",
   "execution_count": null,
   "id": "68d25721-1283-4423-bb47-8f411372ab4b",
   "metadata": {},
   "outputs": [],
   "source": [
    "def pengedeling2(pengehaug):\n",
    "    barn1 = 0\n",
    "    barn2 = 0\n",
    "    barn3 = 0\n",
    "    while pengehaug >= 3:\n",
    "        pengehaug -= 3\n",
    "        barn1 += 1\n",
    "        barn2 += 1\n",
    "        barn3 += 1\n",
    "    print('Nå er fordelingen ferdig. Det ble',pengehaug,'krone(r) igjen. Hvert barn fikk',barn1,'krone(r).')"
   ]
  },
  {
   "cell_type": "code",
   "execution_count": null,
   "id": "e9f27beb-1e2d-4208-904d-63346e14f985",
   "metadata": {},
   "outputs": [],
   "source": [
    "pengedeling2(67)"
   ]
  }
 ],
 "metadata": {
  "kernelspec": {
   "display_name": "Python 3 (ipykernel)",
   "language": "python",
   "name": "python3"
  },
  "language_info": {
   "codemirror_mode": {
    "name": "ipython",
    "version": 3
   },
   "file_extension": ".py",
   "mimetype": "text/x-python",
   "name": "python",
   "nbconvert_exporter": "python",
   "pygments_lexer": "ipython3",
   "version": "3.10.14"
  }
 },
 "nbformat": 4,
 "nbformat_minor": 5
}
